{
 "cells": [
  {
   "attachments": {},
   "cell_type": "markdown",
   "metadata": {},
   "source": [
    "### Import libraries"
   ]
  },
  {
   "cell_type": "code",
   "execution_count": 98,
   "metadata": {},
   "outputs": [],
   "source": [
    "import pandas as pd\n",
    "import random\n",
    "from time import sleep\n",
    "import pprint\n",
    "import matplotlib.pyplot as plt\n",
    "import seaborn as sns\n",
    "import requests\n",
    "from bs4 import BeautifulSoup\n",
    "import re\n",
    "%matplotlib inline\n",
    "pp = pprint.PrettyPrinter(compact=True)"
   ]
  },
  {
   "attachments": {},
   "cell_type": "markdown",
   "metadata": {},
   "source": [
    "### Scrape link directory\n",
    "Using BeautifulSoup, we'll scrape wildwinds.com/coins/ric/i.html for landing pages of coin subjects  in alphabetical order. As of 11/3/2023, wildwinds.com/robots.txt grants permission for webscraping requests, provided there is a delay of 30 seconds between each request, and that the webscraping software is not explicitly blacklisted."
   ]
  },
  {
   "cell_type": "code",
   "execution_count": 99,
   "metadata": {},
   "outputs": [],
   "source": [
    "with requests.get('https://www.wildwinds.com/coins/ric/i.html') as raw:\n",
    "    soup = BeautifulSoup(raw.content, 'lxml')"
   ]
  },
  {
   "attachments": {},
   "cell_type": "markdown",
   "metadata": {},
   "source": [
    "### Parse html data for a clean list of ruler names"
   ]
  },
  {
   "cell_type": "code",
   "execution_count": 100,
   "metadata": {},
   "outputs": [
    {
     "name": "stdout",
     "output_type": "stream",
     "text": [
      "First five: ['Aelia Ariadne', 'Aelia Flacilla', 'Aelia Verina', 'Aelius', 'Aemilian'] \n",
      "Last five: ['Vitellius', 'Volusian', 'Zeno', 'Zenobia', 'Zenonis'] \n",
      "231 emperors total\n"
     ]
    }
   ],
   "source": [
    "options = soup.find_all('option')\n",
    "emperors_raw = [i.contents for i in options if i.attrs['value'] != ''][:-6]\n",
    "emperors = []\n",
    "for line in emperors_raw:\n",
    "    for text in line:\n",
    "        emperors.append(text.strip())\n",
    "print(f'First five: {emperors[:5]} \\nLast five: {emperors[-5:]} \\n{len(emperors)} emperors total')"
   ]
  },
  {
   "cell_type": "markdown",
   "metadata": {},
   "source": [
    "### Generate list of usable link roots for each Emperor's coin page"
   ]
  },
  {
   "cell_type": "code",
   "execution_count": 101,
   "metadata": {},
   "outputs": [
    {
     "name": "stdout",
     "output_type": "stream",
     "text": [
      "First five: ['https://www.wildwinds.com/coins/ric/aelia_ariadne/', 'https://www.wildwinds.com/coins/ric/aelia_flaccilla/', 'https://www.wildwinds.com/coins/ric/aelia_verina/', 'https://www.wildwinds.com/coins/ric/aelius/', 'https://www.wildwinds.com/coins/ric/aemilian/'] \n",
      "Last five: ['https://www.wildwinds.com/coins/ric/vitellius/', 'https://www.wildwinds.com/coins/ric/volusian/', 'https://www.wildwinds.com/coins/ric/zeno/', 'https://www.wildwinds.com/coins/ric/zenobia/', 'https://www.wildwinds.com/coins/ric/zenonis/'] \n",
      "231 linkroots total\n"
     ]
    }
   ],
   "source": [
    "# wildwinds.com/robots.txt requires a 30-second delay between requests\n",
    "linkroots = ['https://www.wildwinds.com/coins/ric/' + i.attrs['value'][:-6] for i in options if i.attrs['value'] != ''][:-6]\n",
    "print(f'First five: {linkroots[:5]} \\nLast five: {linkroots[-5:]} \\n{len(linkroots)} linkroots total')"
   ]
  },
  {
   "cell_type": "markdown",
   "metadata": {},
   "source": [
    "### Create a semi-random list of test pages for building an adaptable parser"
   ]
  },
  {
   "cell_type": "code",
   "execution_count": 102,
   "metadata": {},
   "outputs": [
    {
     "name": "stdout",
     "output_type": "stream",
     "text": [
      "https://www.wildwinds.com/coins/ric/martinian/\n",
      "https://www.wildwinds.com/coins/ric/theodora/\n",
      "https://www.wildwinds.com/coins/ric/julius_nepos/\n",
      "https://www.wildwinds.com/coins/ric/johannes/\n",
      "https://www.wildwinds.com/coins/ric/lucilla/\n",
      "https://www.wildwinds.com/coins/ric/bonosus/\n",
      "https://www.wildwinds.com/coins/ric/jovinus/\n",
      "https://www.wildwinds.com/coins/ric/aelia_ariadne/\n",
      "https://www.wildwinds.com/coins/ric/pertinax/\n",
      "https://www.wildwinds.com/coins/ric/paulina/\n"
     ]
    }
   ],
   "source": [
    "test_ids = random.choices(range(len(linkroots)), k=10) # 10 random index numbers\n",
    "test_roots = [linkroots[i] for i in test_ids] # Corresponding url roots\n",
    "for root in test_roots:\n",
    "    print(root)"
   ]
  },
  {
   "cell_type": "markdown",
   "metadata": {},
   "source": [
    "### pull html from test pages"
   ]
  },
  {
   "cell_type": "code",
   "execution_count": 103,
   "metadata": {},
   "outputs": [],
   "source": [
    "# Define function that scrapes indicated pages with 30-second delay between requests\n",
    "def scrape(url_roots: list[str]):\n",
    "    combined_pages_html = []\n",
    "    max_length = 0\n",
    "    for root in url_roots:\n",
    "        url = root + 'i.html'\n",
    "        message = f'requesting {url} ({url_roots.index(root) + 1}/{len(url_roots)})'\n",
    "        max_length = max(max_length, len(message))\n",
    "        print(f'\\r{message.ljust(max_length)}', end=' ', flush=True)\n",
    "        sleep(30)\n",
    "        page_html = requests.get(url)\n",
    "        combined_pages_html.append(page_html)\n",
    "    # After the loop, print a final message that clears the last line\n",
    "    print(f'\\rscraping complete: {url_roots.index(root) + 1}/{len(url_roots)}'.ljust(max_length))\n",
    "    return combined_pages_html"
   ]
  },
  {
   "cell_type": "code",
   "execution_count": 104,
   "metadata": {},
   "outputs": [
    {
     "name": "stdout",
     "output_type": "stream",
     "text": [
      "scraping complete: 10/10                                                   \n"
     ]
    }
   ],
   "source": [
    "# Scrape test pages' html (this takes some time with the delay)\n",
    "test_pages = scrape(test_roots)"
   ]
  },
  {
   "cell_type": "markdown",
   "metadata": {},
   "source": [
    "### Inspect test page html"
   ]
  },
  {
   "cell_type": "code",
   "execution_count": 105,
   "metadata": {},
   "outputs": [],
   "source": [
    "# Convert page html into easier-to-manipulate format using BeautifulSoup\n",
    "test_soups = [BeautifulSoup(page.content, 'lxml') for page in test_pages]"
   ]
  },
  {
   "cell_type": "code",
   "execution_count": 106,
   "metadata": {},
   "outputs": [
    {
     "name": "stdout",
     "output_type": "stream",
     "text": [
      "Test soup preview: \n",
      "\n",
      "<html>\n",
      "<head>\n",
      "<title>Bonosus, Roman Imperial Coins of, at WildWinds.com</title>\n",
      "<meta content=\"width=device-width, initial-scale=1\" name=\"viewport\"/>\n",
      "<base target=\"_parent\"/>\n",
      "</head>\n",
      "<body bgcolor=\"#D7D5D5\">\n",
      "<object data=\"https://www.wildwinds.com/coins/topscript.html\" height=\"160\" width=\"100%\"></object><br/>\n",
      "<center>\n",
      "<p></p><h2>Browsing Roman Imperial Coins of Bonosus</h2>\n",
      "<p><img src=\"toppic.jpg\"/>\n",
      "<br/>Bonosus, of British descent and a general during Probus' reign, rebelled against the emperor and made himself emperor of Gaul. After a very brief reign he was defeated by Probus.\n",
      "\n",
      "</p><h3><a href=\"t.html\">Click here for the Bonosus page with thumbnail images.</a></h3>\n",
      "<table border=\"1\" cellpadding=\"0\" cellspacing=\"1\">\n",
      "<tr><td bgcolor=\"#b87333\">RIC 2cf</td><td>Bonosus, Usurper in Gaul ca.280 AD, AE Antoninianus.  [M] C BONO~SVS [///] on obv, radiate head of Bonosus showing bare neck right / ...AVG, uncertain deity standing, holding a long wavy object, perhaps Salus feeding snake?\n",
      "</td><th><a href=\"RIC_0002cf.txt\">Text</a></th><th><a href=\"RIC_0002cf.jpg\">Image</a></th></tr>\n",
      "<tr><td bgcolor=\"#C0C0C0\">RIC p592</td><td>Quintus Bonosus c. 280 AD, billon antoninianus. M C BONOS AVI (?) Radiate &amp; draped, bearded bust right / IOVL X AIVN Emperor, holding transverse spear, standing facing, head right.\n",
      "</td><th><a href=\"RIC_p592.txt\">Text</a></th><th><a href=\"RIC_p592.jpg\">Image</a></th></tr>\n",
      "</table>\n",
      "<p><font size=\"3\"><table border=\"3\"><tr><th><a href=\"../../index.html\">Coins Main Page</a></th><th><a href=\"../../rsc/i.html\">Browse Republic Coinage</a></th><th><a href=\"../../imp/i.html\">Browse Imperatorial Coinage</a></th><th><a href=\"../../ric/i.html\">Browse Imperial Coinage</a></th><th><a href=\"../../search.html\">Search All Entries</a></th></tr></table>\n",
      "</font></p></center></body></html>\n",
      "\n"
     ]
    }
   ],
   "source": [
    "print(f'Test soup preview: \\n\\n{str(test_soups[5])[:2000]}')"
   ]
  },
  {
   "cell_type": "markdown",
   "metadata": {},
   "source": [
    "### Create helper functions for parsing data fields"
   ]
  },
  {
   "cell_type": "code",
   "execution_count": 107,
   "metadata": {},
   "outputs": [],
   "source": [
    "# Define function for parsing names of coin subjects\n",
    "def pull_title(soup):\n",
    "    raw_title = soup.find('title').text\n",
    "    sep_index = raw_title.find(',')\n",
    "    if sep_index == -1:\n",
    "        sep_index = raw_title.find('-')\n",
    "    return raw_title[:sep_index].strip() if sep_index != -1 else raw_title.strip()"
   ]
  },
  {
   "cell_type": "code",
   "execution_count": 108,
   "metadata": {},
   "outputs": [],
   "source": [
    "# Function to test pull_title()\n",
    "def test_pull_title(soups): \n",
    "    titles = pd.Series([pull_title(soup) for soup in soups])\n",
    "    print(f'Out of {len(soups)} soups, {titles.isna().sum()} have missing titles.')\n",
    "    pp.pprint(titles.tolist())"
   ]
  },
  {
   "cell_type": "code",
   "execution_count": 109,
   "metadata": {},
   "outputs": [
    {
     "name": "stdout",
     "output_type": "stream",
     "text": [
      "Out of 10 soups, 0 have missing titles.\n",
      "['Martinian', 'Theodora', 'Julius Nepos', 'Johannes', 'Lucilla', 'Bonosus',\n",
      " 'Jovinus', 'Aelia Ariadne', 'Pertinax', 'Paulina']\n"
     ]
    }
   ],
   "source": [
    "test_pull_title(test_soups)"
   ]
  },
  {
   "cell_type": "code",
   "execution_count": 110,
   "metadata": {},
   "outputs": [],
   "source": [
    "# Function to pull subtitles\n",
    "def pull_subtitle(soup):\n",
    "    possible_locations = [\n",
    "        lambda s: s.find_all('h3')[0].contents[-1],\n",
    "        lambda s: s.find('font').contents[0],\n",
    "        lambda s: s.find_all('p')[1].contents[-1],\n",
    "        lambda s: s.find_all('br')[0].contents[0],\n",
    "    ]\n",
    "    \n",
    "    for get_subtitle in possible_locations:\n",
    "        try:\n",
    "            subtitle = get_subtitle(soup)\n",
    "            if not subtitle or len(str(subtitle)) < 4:\n",
    "                continue\n",
    "            if any(keyword in str(subtitle) for keyword in ['Click', 'Browse']):\n",
    "                continue\n",
    "            if '(' in str(subtitle) or '<' in str(subtitle):\n",
    "                return None\n",
    "            return str(subtitle).strip()\n",
    "        except (IndexError, AttributeError):\n",
    "            continue \n",
    "    \n",
    "    return None"
   ]
  },
  {
   "cell_type": "code",
   "execution_count": 111,
   "metadata": {},
   "outputs": [],
   "source": [
    "# Function to test pull_subtitle()\n",
    "def test_pull_subtitle(soups):\n",
    "    subtitles = pd.Series([pull_subtitle(soup) for soup in soups])\n",
    "    print(f'Out of {len(soups)} soups, {subtitles.isna().sum()} are missing subtitles.')\n",
    "    pp.pprint(subtitles.tolist()) "
   ]
  },
  {
   "cell_type": "code",
   "execution_count": 112,
   "metadata": {},
   "outputs": [
    {
     "name": "stdout",
     "output_type": "stream",
     "text": [
      "Out of 10 soups, 5 are missing subtitles.\n",
      "[None, None, None, 'Johannes, 423-425 AD.', None,\n",
      " \"Bonosus, of British descent and a general during Probus' reign, rebelled \"\n",
      " 'against the emperor and made himself emperor of Gaul. After a very brief '\n",
      " 'reign he was defeated by Probus.',\n",
      " 'Note: For the VICTORIA.. reverse legend types, the legend break helps to '\n",
      " 'pinpoint the reference number.',\n",
      " 'Wife of Zeno and Anastasius, daughter of Leo I, mother of Leo II. Augusta '\n",
      " '474-474 and 477-491 AD.',\n",
      " None, 'Paulina, wife of Maximinus I']\n"
     ]
    }
   ],
   "source": [
    "test_pull_subtitle(test_soups)"
   ]
  },
  {
   "cell_type": "code",
   "execution_count": 113,
   "metadata": {},
   "outputs": [],
   "source": [
    "# Function to pull raw coin data\n",
    "def pull_coins(soup):\n",
    "    coins = [coin.contents for coin in soup.find_all('tr') if len(coin) >2 and 'bgcolor' in str(coin)]\n",
    "    return coins"
   ]
  },
  {
   "cell_type": "code",
   "execution_count": 114,
   "metadata": {},
   "outputs": [
    {
     "name": "stdout",
     "output_type": "stream",
     "text": [
      "20 test coins. Raw data:\n",
      "\n",
      "[[<td bgcolor=\"#B87333\">Aquileia<br/>RIC VII 123, Muled barb</td>,\n",
      "  <td>Theodora barb. Unofficial mint, probably in England. Garbled legend ending in EA, draped bust right. / Victory with wings spread, standing left on prow, holding transverse sceptre and resting left hand on shield. Mintmark AQP. Muled barb with the reverse of RIC VII Aquileia 123; Sear 16460.</td>,\n",
      "  <td><a href=\"_aquileia_RIC_123_barb_mule.txt\">Text</a></td>,\n",
      "  <td><a href=\"_aquileia_RIC_123_barb_mule.jpg\">Image</a></td>],\n",
      " [<td bgcolor=\"#b87333\"><font size=\"+1\"><b> Constantinople</b></font> <center>RIC 36 </center></td>,\n",
      "  <td>Theodora, AE follis. FL MAX THEO-DORAE AVG, bust right in plain mantle and necklace / PIETAS ROMANA dot, Pietas facing, head right, holding an infant; mintmark CONS epsilon. RIC VIII Constantinople 36; Sear 17505.</td>,\n",
      "  <td><a href=\"_constantinople_RIC_036.txt\">Text</a></td>,\n",
      "  <td><a href=\"_constantinople_RIC_036.jpg\">Image</a></td>],\n",
      " [<td bgcolor=\"#B87333\">Constantinople<br/>RIC 50</td>,\n",
      "  <td>Theodora, AE follis, Constantinople. 337-340 AD. FL MAX THEO-DORAE AVG, bust right, wearing plain mantle and necklace, hair elaborately dressed / PIETAS-ROMANA, Pietas facing, head right, holding an infant. Mintmark CONS epsilon. RIC VIII Constantinople 50; Sear 17506.</td>,\n",
      "  <td><a href=\"_constantinople_RIC_050.txt\">Text</a></td>,\n",
      "  <td><a href=\"_constantinople_RIC_050.jpg\">Image</a></td>],\n",
      " [<td bgcolor=\"#B87333\">Constantinople<br/>RIC 50 var</td>,\n",
      "  <td>Theodora, AE follis, Constantinople, AD 337-340. FL MAX THE-ODORAE AVG, bust right, wearing plain mantle and necklace, hair elaborately dressed / PIETAS-ROMANA, Pietas facing, head right, holding an infant. Mintmark CONS epsilon. RIC VIII Constantinople 50 var (obv. legend break).</td>,\n",
      "  <td><a href=\"_constantinople_RIC_050var.txt\">Text</a></td>,\n",
      "  <td><a href=\"_constantinople_RIC_050var.jpg\">Image</a></td>],\n",
      " [<td bgcolor=\"#B87333\">Rome<br/>RIC 28 var</td>,\n",
      "  <td>Theodora, AE follis, Rome. 337-340 AD. FL MAX TH-EODORAE AVG, bust right, wearing plain mantle and necklace, hair elaborately dressed / PIETAS-ROMANA, Pietas facing, head right, holding an infant. Mintmark R star epsilon. RIC VIII Rome 28 var (obv. legend break); Sear 17503.</td>,\n",
      "  <td><a href=\"_rome_RIC_028v.txt\">Text</a></td>,\n",
      "  <td><a href=\"_rome_RIC_028v.jpg\">Image</a></td>]]\n"
     ]
    }
   ],
   "source": [
    "# Test pull_coins\n",
    "test_coins = pull_coins(test_soups[1])\n",
    "print(f'{len(test_coins)} test coins. Raw data:\\n')\n",
    "pp.pprint(test_coins[:5])"
   ]
  },
  {
   "cell_type": "markdown",
   "metadata": {},
   "source": [
    "### Helper functions to parse useful data features"
   ]
  },
  {
   "cell_type": "code",
   "execution_count": 115,
   "metadata": {},
   "outputs": [],
   "source": [
    "# Function to identify coin metal\n",
    "def coin_metal(coin):\n",
    "    metals = {'#B8':'Copper','#b8':'Copper', '#FF':'Gold', '#C0':'Silver', '#B7':'Brass', '#b7':'Brass', 'red':'FAKE'}\n",
    "    coin = str(coin)\n",
    "    try:\n",
    "        bg_color_index = int(coin.find('bgcolor=')) + 9\n",
    "        bg_color = coin[bg_color_index:bg_color_index + 3]\n",
    "        metal = metals[bg_color]\n",
    "    except:\n",
    "        return None\n",
    "    return metal"
   ]
  },
  {
   "cell_type": "code",
   "execution_count": 116,
   "metadata": {},
   "outputs": [],
   "source": [
    "# Function to test previous function coin_metal()\n",
    "def test_coin_metal(coins):\n",
    "    metals = pd.Series([coin_metal(coin) for coin in coins])\n",
    "    print(f'Out of {len(coins)} coins, {metals.isna().sum()} are missing metal value(s)')\n",
    "    pp.pprint(metals.tolist())"
   ]
  },
  {
   "cell_type": "code",
   "execution_count": 117,
   "metadata": {},
   "outputs": [
    {
     "name": "stdout",
     "output_type": "stream",
     "text": [
      "Out of 20 coins, 0 are missing metal value(s)\n",
      "['Copper', 'Copper', 'Copper', 'Copper', 'Copper', 'Copper', 'Copper', 'Copper',\n",
      " 'Copper', 'Copper', 'Copper', 'Copper', 'Copper', 'Copper', 'Copper', 'Copper',\n",
      " 'Copper', 'Copper', 'Copper', 'Copper']\n"
     ]
    }
   ],
   "source": [
    "test_coin_metal(test_coins)"
   ]
  },
  {
   "cell_type": "code",
   "execution_count": 118,
   "metadata": {},
   "outputs": [],
   "source": [
    "# Function to pull coin era (i.e. 'AD' or 'BC') \n",
    "def coin_era(coin):\n",
    "    match = re.search(r'\\b(AD|BC)\\b', str(coin))\n",
    "    return match.group(0) if match else None\n",
    "\n",
    "# Function to pull a year (not *every* year) in the coin description\n",
    "# (if there is a range of years i.e. 117-124 AD, function pulls the year closest to era i.e. '117-124 AD' returns '124', while 'AD 117-124' returns '117')\n",
    "def coin_year(coin):\n",
    "    era = coin_era(coin)\n",
    "    if not era:\n",
    "        return None\n",
    "\n",
    "    if era == 'AD':\n",
    "        # Look for the year pattern before 'AD'\n",
    "        match = re.search(r'(\\d{1,4})(?=\\s*AD)', str(coin))\n",
    "    else:\n",
    "        # Look for the year pattern before 'BC'\n",
    "        match = re.search(r'(\\d{1,4})(?=\\s*BC)', str(coin))\n",
    "\n",
    "    if not match:\n",
    "        # If no year is found before the era, search after it\n",
    "        match = re.search(r'(?<=\\bAD\\s)(\\d{1,4})', str(coin)) if era == 'AD' else re.search(r'(?<=\\bBC\\s)(\\d{1,4})', str(coin))\n",
    "\n",
    "    if match:\n",
    "        year = int(match.group(0))\n",
    "        return year if era == 'AD' else -year\n",
    "    else:\n",
    "        return None"
   ]
  },
  {
   "cell_type": "code",
   "execution_count": 119,
   "metadata": {},
   "outputs": [],
   "source": [
    "# Function to test coin_era() and coin_year()\n",
    "def test_coin_era_and_year(coins):\n",
    "    eras = [coin_era(coin) for coin in coins]\n",
    "    years = [coin_year(coin) for coin in coins]\n",
    "    df = pd.DataFrame({'eras':eras, 'years':years})\n",
    "    print(f'Out of {len(coins)} coins:')\n",
    "    print(f'{df.eras.isna().sum()} are missing era value(s).')\n",
    "    print(f'{df.years.isna().sum()} are missing year value(s).')\n",
    "    pp.pprint(eras)\n",
    "    pp.pprint(years)"
   ]
  },
  {
   "cell_type": "code",
   "execution_count": 120,
   "metadata": {},
   "outputs": [
    {
     "name": "stdout",
     "output_type": "stream",
     "text": [
      "Out of 20 coins:\n",
      "2 are missing era value(s).\n",
      "2 are missing year value(s).\n",
      "[None, None, 'AD', 'AD', 'AD', 'AD', 'AD', 'AD', 'AD', 'AD', 'AD', 'AD', 'AD',\n",
      " 'AD', 'AD', 'AD', 'AD', 'AD', 'AD', 'AD']\n",
      "[None, None, 340, 337, 340, 340, 340, 340, 340, 340, 337, 340, 340, 340, 340,\n",
      " 340, 340, 337, 337, 337]\n"
     ]
    }
   ],
   "source": [
    "test_coin_era_and_year(test_coins)"
   ]
  },
  {
   "cell_type": "markdown",
   "metadata": {},
   "source": [
    "wildwinds.com/robots.txt forbids use of their images, so those urls will not be parsed"
   ]
  },
  {
   "cell_type": "code",
   "execution_count": 121,
   "metadata": {},
   "outputs": [],
   "source": [
    "# Function to pull .txt urls\n",
    "def coin_txt(coin):\n",
    "    for item in coin:\n",
    "        match = re.search(r'href=\"([^\"]+\\.txt)\"', str(item))\n",
    "        if match:\n",
    "            return match.group(1)"
   ]
  },
  {
   "cell_type": "code",
   "execution_count": 122,
   "metadata": {},
   "outputs": [],
   "source": [
    "# Function to test previous function coin_metal()\n",
    "def test_coin_txt(coins):\n",
    "    txt = pd.Series([coin_txt(coin) for coin in coins])\n",
    "    print(f'Out of {len(coins)} coins, {txt.isna().sum()} are missing .txt value(s)')\n",
    "    pp.pprint(txt.tolist())"
   ]
  },
  {
   "cell_type": "code",
   "execution_count": 123,
   "metadata": {},
   "outputs": [
    {
     "name": "stdout",
     "output_type": "stream",
     "text": [
      "Out of 20 coins, 0 are missing .txt value(s)\n",
      "['_aquileia_RIC_123_barb_mule.txt', '_constantinople_RIC_036.txt',\n",
      " '_constantinople_RIC_050.txt', '_constantinople_RIC_050var.txt',\n",
      " '_rome_RIC_028v.txt', '_trier_RIC_043.txt', '_trier_RIC_043_S.txt',\n",
      " '_trier_RIC_043_2.txt', '_trier_RIC_048_S.txt', '_trier_RIC_056.txt',\n",
      " '_trier_RIC_064.txt', '_trier_RIC_065_P.txt', '_trier_RIC_065.txt',\n",
      " '_trier_RIC_079.txt', '_trier_RIC_091.txt', '_trier_RIC_091_S.txt',\n",
      " '_trier_AM_091q.txt', 'Elsen_87-1624.txt', 'Rauch_9-1284.txt',\n",
      " 'Via-Agrippa_BI018.txt']\n"
     ]
    }
   ],
   "source": [
    "test_coin_txt(test_coins)"
   ]
  },
  {
   "cell_type": "code",
   "execution_count": 124,
   "metadata": {},
   "outputs": [],
   "source": [
    "# Function to pull coin ids from jpg or txt urls\n",
    "def coin_id(coin):\n",
    "    coin = str(coin)\n",
    "    match = re.search(r'href=\"_*([^\"]+?)\\.(jpg|txt)\"', coin)\n",
    "    if match:\n",
    "        return match.group(1)"
   ]
  },
  {
   "cell_type": "code",
   "execution_count": 125,
   "metadata": {},
   "outputs": [],
   "source": [
    "# Function to test previous function coin_id()\n",
    "def test_coin_id(coins):\n",
    "    id = pd.Series([coin_id(coin) for coin in coins])\n",
    "    print(f'Out of {len(coins)} coins, {id.isna().sum()} are missing id value(s)')\n",
    "    pp.pprint(id.tolist())"
   ]
  },
  {
   "cell_type": "code",
   "execution_count": 126,
   "metadata": {},
   "outputs": [
    {
     "name": "stdout",
     "output_type": "stream",
     "text": [
      "Out of 20 coins, 0 are missing id value(s)\n",
      "['aquileia_RIC_123_barb_mule', 'constantinople_RIC_036',\n",
      " 'constantinople_RIC_050', 'constantinople_RIC_050var', 'rome_RIC_028v',\n",
      " 'trier_RIC_043', 'trier_RIC_043_S', 'trier_RIC_043_2', 'trier_RIC_048_S',\n",
      " 'trier_RIC_056', 'trier_RIC_064', 'trier_RIC_065_P', 'trier_RIC_065',\n",
      " 'trier_RIC_079', 'trier_RIC_091', 'trier_RIC_091_S', 'trier_AM_091q',\n",
      " 'Elsen_87-1624', 'Rauch_9-1284', 'Via-Agrippa_BI018']\n"
     ]
    }
   ],
   "source": [
    "test_coin_id(test_coins)"
   ]
  },
  {
   "cell_type": "code",
   "execution_count": 127,
   "metadata": {},
   "outputs": [],
   "source": [
    "# Function to pull coin mass (in grams)\n",
    "def coin_mass(coin):\n",
    "    coin = str(coin)\n",
    "    gram_variations = [r'\\bgr\\b', r'\\bgm\\b', r'\\bg\\b'] \n",
    "    \n",
    "    def extract_mass(pattern, coin_text):\n",
    "        match = re.search(r'(\\d+(?:\\.\\d+)?)\\s*' + pattern, coin_text)\n",
    "        if match:\n",
    "            num_str = match.group(1).replace(',', '.')\n",
    "            try:\n",
    "                return float(num_str)\n",
    "            except ValueError:\n",
    "                return None\n",
    "        return None\n",
    "\n",
    "    for grams in gram_variations:\n",
    "        mass = extract_mass(grams, coin)\n",
    "        if mass is not None:\n",
    "            return mass\n",
    "            \n",
    "    return None"
   ]
  },
  {
   "cell_type": "code",
   "execution_count": 128,
   "metadata": {},
   "outputs": [],
   "source": [
    "# Function to test coin_mass()\n",
    "def test_coin_mass(coins):\n",
    "    mass = pd.Series([coin_mass(coin) for coin in coins])\n",
    "    print(f'Out of {len(coins)} coins, {mass.isna().sum()} are missing mass value(s)')\n",
    "    pp.pprint(mass.tolist())"
   ]
  },
  {
   "cell_type": "code",
   "execution_count": 129,
   "metadata": {},
   "outputs": [
    {
     "name": "stdout",
     "output_type": "stream",
     "text": [
      "Out of 20 coins, 19 are missing mass value(s)\n",
      "[nan, nan, nan, nan, nan, nan, nan, nan, nan, nan, nan, nan, nan, nan, nan, nan,\n",
      " nan, 0.73, nan, nan]\n"
     ]
    }
   ],
   "source": [
    "test_coin_mass(test_coins)"
   ]
  },
  {
   "cell_type": "code",
   "execution_count": 130,
   "metadata": {},
   "outputs": [],
   "source": [
    "# Function to pull coin diameter (in mm)\n",
    "def coin_diameter(coin):\n",
    "    coin = str(coin)\n",
    "    pattern = re.compile(r'(\\d+(\\.\\d*)?)\\s*mm')\n",
    "\n",
    "    match = pattern.search(coin)\n",
    "    \n",
    "    if match:\n",
    "        return float(match.group(1))\n",
    "    \n",
    "    return None"
   ]
  },
  {
   "cell_type": "code",
   "execution_count": 131,
   "metadata": {},
   "outputs": [],
   "source": [
    "# Function to test coin_diameter()\n",
    "def test_coin_diameter(coins):\n",
    "    diameter = pd.Series([coin_diameter(coin) for coin in coins])\n",
    "    print(f'Out of {len(coins)} coins, {diameter.isna().sum()} are missing diameter value(s)')\n",
    "    pp.pprint(diameter.tolist())"
   ]
  },
  {
   "cell_type": "code",
   "execution_count": 132,
   "metadata": {},
   "outputs": [
    {
     "name": "stdout",
     "output_type": "stream",
     "text": [
      "Out of 20 coins, 16 are missing diameter value(s)\n",
      "[nan, nan, nan, nan, nan, nan, nan, nan, nan, 14.0, nan, 15.0, 15.0, nan, nan,\n",
      " nan, nan, nan, nan, 17.0]\n"
     ]
    }
   ],
   "source": [
    "test_coin_diameter(test_coins)"
   ]
  },
  {
   "attachments": {},
   "cell_type": "markdown",
   "metadata": {},
   "source": [
    "### Check for common inscriptions\n",
    "...such as \"AVG\" (Augustus, title of the emperor), \"IMP\" (Imperator (victorious general), received upon accession), \"CAES\" (Caesar, inherited name of the Julian family (Julius Caesar), used by later emperors to designate heir), \"GERM\" (Germanicus, a title honoring military victories in Germany), \"COS\" or \"CONSVL\" (Consul, a title linked to highest office in Senate, usually held by emperor), \"PO\" (Pontifex Maximus, highest priest, the head of state religion), \"PP\" (Pater Patriae, father of the country), \"PF\" (Pius Felix, reverent or dutiful), \"SC\" (Senatus Consultus), \"TPP\" (Tribunica Potestate, tribune of the people, each renewal indicated by numerals), \"CENS\" (Censor, a public office overseeing taxes, morality, the census and membership in various orders), \"BRIT\" (Britannicus)."
   ]
  },
  {
   "cell_type": "code",
   "execution_count": 133,
   "metadata": {},
   "outputs": [],
   "source": [
    "# Function to pull recognized inscriptions\n",
    "def coin_inscriptions(coin):\n",
    "    coin = f\" {str(coin)} \"  # Pad with spaces to ensure we can match inscriptions at the edges\n",
    "    inscriptions_list = ['AVG', 'IMP', 'CAES', 'GERM', 'COS', 'CONSVL', 'PP', 'PO', 'PF',\n",
    "                         'SC', 'CENS', 'TPP', 'TR', 'RESTITVT', 'BRIT', 'AVGVSTVS', 'CAESAR',\n",
    "                         'C', 'TRIB POT', 'PON MAX', 'PM']\n",
    "    found_inscriptions = [i for i in inscriptions_list if f' {i} ' in coin]\n",
    "    unique_inscriptions = list(set(found_inscriptions))\n",
    "    return unique_inscriptions if unique_inscriptions else None"
   ]
  },
  {
   "cell_type": "code",
   "execution_count": 134,
   "metadata": {},
   "outputs": [],
   "source": [
    "def test_coin_inscriptions(coins):\n",
    "    inscriptions = pd.Series([coin_inscriptions(coin) for coin in coins])\n",
    "    print(f'Out of {len(coins)} coins, {inscriptions.isna().sum()} are missing inscriptions value(s)')\n",
    "    pp.pprint(inscriptions.tolist())"
   ]
  },
  {
   "cell_type": "code",
   "execution_count": 135,
   "metadata": {},
   "outputs": [
    {
     "name": "stdout",
     "output_type": "stream",
     "text": [
      "Out of 20 coins, 20 are missing inscriptions value(s)\n",
      "[None, None, None, None, None, None, None, None, None, None, None, None, None,\n",
      " None, None, None, None, None, None, None]\n"
     ]
    }
   ],
   "source": [
    "test_coin_inscriptions(test_coins)"
   ]
  },
  {
   "attachments": {},
   "cell_type": "markdown",
   "metadata": {},
   "source": [
    "### Create coin_tests() for a basic summary of function success"
   ]
  },
  {
   "cell_type": "code",
   "execution_count": 136,
   "metadata": {},
   "outputs": [
    {
     "name": "stdout",
     "output_type": "stream",
     "text": [
      "Out of 238 coins in 10 soups, there are:\n",
      "  0 missing metal values\n",
      "    4 unique metal values: ['Copper' 'Gold' 'Silver' 'Brass']\n",
      "  92 missing year values\n",
      "    27 unique year values\n",
      "      Mean: 272.36986301369865, Median: 193.0, Min: 161.0, Max: 491.0\n",
      "  35 missing id values\n",
      "    203 unique id values\n",
      "  162 missing mass values\n",
      "    69 unique mass values\n",
      "      Mean: 11.417105263157893, Median: 9.92, Min: 0.73, Max: 46.15\n",
      "  186 missing diameter values\n",
      "    22 unique diameter values\n",
      "      Mean: 20.850192307692307, Median: 21.15, Min: 11.0, Max: 37.0\n",
      "  118 missing inscriptions values\n",
      "    8 unique inscriptions\n",
      "      ['AVG', 'IMP', 'COS', 'CAES', 'TR', 'C', 'PF', 'SC']\n"
     ]
    }
   ],
   "source": [
    "def coin_tests(soups=test_soups):\n",
    "    test_coins = []\n",
    "    for s in soups:\n",
    "        for c in pull_coins(s):\n",
    "            test_coins.append(c)\n",
    "    print(f'Out of {len(test_coins)} coins in {len(soups)} soups, there are:')\n",
    "    metals = pd.Series([coin_metal(coin) for coin in test_coins])\n",
    "    print(f'  {metals.isna().sum()} missing metal values')\n",
    "    print(f'    {metals.nunique()} unique metal values: {metals.unique()}')\n",
    "    years = pd.Series([coin_year(coin) for coin in test_coins])\n",
    "    print(f'  {years.isna().sum()} missing year values')\n",
    "    print(f'    {years.nunique()} unique year values')\n",
    "    print(f'      Mean: {years.mean()}, Median: {years.median()}, Min: {years.min()}, Max: {years.max()}')\n",
    "    ids = pd.Series([coin_id(coin) for coin in test_coins])\n",
    "    print(f'  {ids.isna().sum()} missing id values')\n",
    "    print(f'    {ids.nunique()} unique id values')\n",
    "    mass = pd.Series([coin_mass(coin) for coin in test_coins])\n",
    "    print(f'  {mass.isna().sum()} missing mass values')\n",
    "    print(f'    {mass.nunique()} unique mass values')\n",
    "    print(f'      Mean: {mass.mean()}, Median: {mass.median()}, Min: {mass.min()}, Max: {mass.max()}')\n",
    "    diameter = pd.Series([coin_diameter(coin) for coin in test_coins])\n",
    "    print(f'  {diameter.isna().sum()} missing diameter values')\n",
    "    print(f'    {diameter.nunique()} unique diameter values')\n",
    "    print(f'      Mean: {diameter.mean()}, Median: {diameter.median()}, Min: {diameter.min()}, Max: {diameter.max()}')\n",
    "    inscriptions = [coin_inscriptions(c) for c in test_coins]\n",
    "    print(f'  {pd.Series(inscriptions).isna().sum()} missing inscriptions values')\n",
    "    unique_inscriptions = list(set([item for inscription in inscriptions if inscription is not None for item in inscription]))\n",
    "    print(f'    {len(unique_inscriptions)} unique inscriptions')\n",
    "    print(f'      {unique_inscriptions}')\n",
    "\n",
    "coin_tests()"
   ]
  },
  {
   "cell_type": "code",
   "execution_count": 137,
   "metadata": {},
   "outputs": [],
   "source": [
    "# Function that combines previous helper functions to return coin DataFrame\n",
    "def coin_df(soup):\n",
    "    title = pull_title(soup)\n",
    "    id, metal, mass, diameter, era, year, inscriptions, jpg, txt = [], [], [], [], [], [], [], [], []\n",
    "    for coin in pull_coins(soup):\n",
    "        id.append(coin_id(coin))\n",
    "        metal.append(coin_metal(coin))\n",
    "        mass.append(coin_mass(coin))\n",
    "        diameter.append(coin_diameter(coin))\n",
    "        era.append(coin_era(coin))\n",
    "        year.append(coin_year(coin))\n",
    "        inscriptions.append(coin_inscriptions(coin))\n",
    "        txt.append(coin_txt(coin))\n",
    "    return pd.DataFrame({'title':title, 'id':id, 'metal':metal, 'mass':mass, 'diameter':diameter, \\\n",
    "                         'era':era, 'year':year, 'inscriptions':inscriptions, 'txt':txt})"
   ]
  },
  {
   "cell_type": "code",
   "execution_count": 138,
   "metadata": {},
   "outputs": [
    {
     "data": {
      "text/html": [
       "<div>\n",
       "<style scoped>\n",
       "    .dataframe tbody tr th:only-of-type {\n",
       "        vertical-align: middle;\n",
       "    }\n",
       "\n",
       "    .dataframe tbody tr th {\n",
       "        vertical-align: top;\n",
       "    }\n",
       "\n",
       "    .dataframe thead th {\n",
       "        text-align: right;\n",
       "    }\n",
       "</style>\n",
       "<table border=\"1\" class=\"dataframe\">\n",
       "  <thead>\n",
       "    <tr style=\"text-align: right;\">\n",
       "      <th></th>\n",
       "      <th>title</th>\n",
       "      <th>id</th>\n",
       "      <th>metal</th>\n",
       "      <th>mass</th>\n",
       "      <th>diameter</th>\n",
       "      <th>era</th>\n",
       "      <th>year</th>\n",
       "      <th>inscriptions</th>\n",
       "      <th>txt</th>\n",
       "    </tr>\n",
       "  </thead>\n",
       "  <tbody>\n",
       "    <tr>\n",
       "      <th>0</th>\n",
       "      <td>Julius Nepos</td>\n",
       "      <td>Carpentras_28</td>\n",
       "      <td>Gold</td>\n",
       "      <td>NaN</td>\n",
       "      <td>NaN</td>\n",
       "      <td>None</td>\n",
       "      <td>NaN</td>\n",
       "      <td>None</td>\n",
       "      <td>Carpentras_28.txt</td>\n",
       "    </tr>\n",
       "    <tr>\n",
       "      <th>1</th>\n",
       "      <td>Julius Nepos</td>\n",
       "      <td>RIC_3211</td>\n",
       "      <td>Gold</td>\n",
       "      <td>NaN</td>\n",
       "      <td>NaN</td>\n",
       "      <td>AD</td>\n",
       "      <td>475.0</td>\n",
       "      <td>None</td>\n",
       "      <td>RIC_3211.txt</td>\n",
       "    </tr>\n",
       "    <tr>\n",
       "      <th>2</th>\n",
       "      <td>Julius Nepos</td>\n",
       "      <td>RIC_3212</td>\n",
       "      <td>Gold</td>\n",
       "      <td>NaN</td>\n",
       "      <td>NaN</td>\n",
       "      <td>AD</td>\n",
       "      <td>475.0</td>\n",
       "      <td>None</td>\n",
       "      <td>RIC_3212.txt</td>\n",
       "    </tr>\n",
       "    <tr>\n",
       "      <th>3</th>\n",
       "      <td>Julius Nepos</td>\n",
       "      <td>RIC_3214</td>\n",
       "      <td>Gold</td>\n",
       "      <td>NaN</td>\n",
       "      <td>NaN</td>\n",
       "      <td>AD</td>\n",
       "      <td>475.0</td>\n",
       "      <td>None</td>\n",
       "      <td>RIC_3214.txt</td>\n",
       "    </tr>\n",
       "    <tr>\n",
       "      <th>4</th>\n",
       "      <td>Julius Nepos</td>\n",
       "      <td>RIC_3216</td>\n",
       "      <td>Silver</td>\n",
       "      <td>1.09</td>\n",
       "      <td>12.0</td>\n",
       "      <td>AD</td>\n",
       "      <td>475.0</td>\n",
       "      <td>[PF]</td>\n",
       "      <td>RIC_3216.txt</td>\n",
       "    </tr>\n",
       "  </tbody>\n",
       "</table>\n",
       "</div>"
      ],
      "text/plain": [
       "          title             id   metal  mass  diameter   era   year  \\\n",
       "0  Julius Nepos  Carpentras_28    Gold   NaN       NaN  None    NaN   \n",
       "1  Julius Nepos       RIC_3211    Gold   NaN       NaN    AD  475.0   \n",
       "2  Julius Nepos       RIC_3212    Gold   NaN       NaN    AD  475.0   \n",
       "3  Julius Nepos       RIC_3214    Gold   NaN       NaN    AD  475.0   \n",
       "4  Julius Nepos       RIC_3216  Silver  1.09      12.0    AD  475.0   \n",
       "\n",
       "  inscriptions                txt  \n",
       "0         None  Carpentras_28.txt  \n",
       "1         None       RIC_3211.txt  \n",
       "2         None       RIC_3212.txt  \n",
       "3         None       RIC_3214.txt  \n",
       "4         [PF]       RIC_3216.txt  "
      ]
     },
     "execution_count": 138,
     "metadata": {},
     "output_type": "execute_result"
    }
   ],
   "source": [
    "coin_df(test_soups[2]).head()"
   ]
  },
  {
   "cell_type": "code",
   "execution_count": 139,
   "metadata": {},
   "outputs": [],
   "source": [
    "# Function to combine multiple coin Dataframes\n",
    "def combine_coin_dfs(soups):\n",
    "    dfs = [coin_df(soup) for soup in soups]\n",
    "    return pd.concat(dfs, ignore_index=True) "
   ]
  },
  {
   "cell_type": "code",
   "execution_count": 140,
   "metadata": {},
   "outputs": [
    {
     "name": "stderr",
     "output_type": "stream",
     "text": [
      "/tmp/ipykernel_46697/2951457250.py:4: FutureWarning: The behavior of DataFrame concatenation with empty or all-NA entries is deprecated. In a future version, this will no longer exclude empty or all-NA columns when determining the result dtypes. To retain the old behavior, exclude the relevant entries before the concat operation.\n",
      "  return pd.concat(dfs, ignore_index=True)\n"
     ]
    },
    {
     "data": {
      "text/plain": [
       "238"
      ]
     },
     "execution_count": 140,
     "metadata": {},
     "output_type": "execute_result"
    }
   ],
   "source": [
    "len(combine_coin_dfs(test_soups))"
   ]
  },
  {
   "attachments": {},
   "cell_type": "markdown",
   "metadata": {},
   "source": [
    "### Pull html from all source pages\n",
    "(pulling from over 200 pages, which takes a couple hours with the 30 second delay between requests)"
   ]
  },
  {
   "cell_type": "code",
   "execution_count": 141,
   "metadata": {},
   "outputs": [
    {
     "name": "stdout",
     "output_type": "stream",
     "text": [
      "scraping complete: 231/231                                                              \n"
     ]
    }
   ],
   "source": [
    "all_pages = scrape(linkroots)"
   ]
  },
  {
   "cell_type": "code",
   "execution_count": 142,
   "metadata": {},
   "outputs": [],
   "source": [
    "all_soups = [BeautifulSoup(page.content, 'lxml') for page in all_pages]"
   ]
  },
  {
   "attachments": {},
   "cell_type": "markdown",
   "metadata": {},
   "source": [
    "#### Run tests"
   ]
  },
  {
   "cell_type": "code",
   "execution_count": 143,
   "metadata": {},
   "outputs": [
    {
     "name": "stdout",
     "output_type": "stream",
     "text": [
      "Out of 231 soups, 0 have missing titles.\n",
      "['Aelia Ariadne', 'Aelia Flaccilla', 'Aelia Verina', 'Aelius', 'Aemilian',\n",
      " 'Agrippa', 'Agrippa Postumus', 'Agrippina I', 'Agrippina II', 'Alexander',\n",
      " 'Allectus', 'Annia Faustina', 'Annius Verus', 'Anonymous',\n",
      " 'Anthemius and Euphemia', 'Antinous', 'Antonia', 'Antoninus Pius',\n",
      " 'Aquilia Severa', 'Arcadius', 'Asinius Gallus', 'Augustus', 'Aurelian',\n",
      " 'Aureolus', 'Avitus', 'Balbinus', 'Basiliscus', 'Bonosus', 'Britannicus',\n",
      " 'Caesonia', 'Gaius And Lucius', 'Caligula', 'Caracalla', 'Carausius',\n",
      " 'Carinus', 'Carus', 'City Commemoratives', 'Civil Wars', 'Claudius',\n",
      " 'Claudius II', 'Clodius Albinus', 'Clodius Macer', 'Commodus', 'Constans',\n",
      " 'Constantine', 'Constantine II', 'Constantine III', 'Constantius I',\n",
      " 'Constantius II', 'Constantius III', 'Constantius Gallus', 'Cornelia Supera',\n",
      " 'Crispina', 'Crispus', 'Decentius', 'Delmatius', 'Diadumenian', 'Didia Clara',\n",
      " 'Didius Julianus', 'Diocletian', 'Domitia', 'Domitia Lucilla', 'Domitian',\n",
      " 'Domitianus', 'Domitilla I', 'Domitilla II', 'Domitius Domitianus', 'Drusus',\n",
      " 'Dryantilla', 'Elagabalus', 'Eudocia', 'Eudoxia', 'Eugenius', 'Fabius Maximus',\n",
      " 'Fausta', 'Faustina I', 'Faustina II', 'Flavia Titiana', 'Flavius Victor',\n",
      " 'Florian', 'Gaius And Lucius', 'Galba', 'Galeria Valeria', 'Galerius',\n",
      " 'Galerius Antoninus', 'Galla Placidia', 'Gallienus', 'Gemellus', 'Germanicus',\n",
      " 'Geta', 'Glycerius', 'Gordian I', 'Gordian II', 'Gordian III', 'Gratian',\n",
      " 'Hadrian', 'Hanniballianus', 'Helena', 'Herennia Etruscilla',\n",
      " 'Herennius Etruscus', 'Honoria', 'Honorius', 'Hostilian', 'Johannes',\n",
      " 'Jotapian', 'Jovian', 'Jovinus', 'Julia', 'Julia Domna', 'Julia Maesa',\n",
      " 'Julia Mamaea', 'Julia Paula', 'Julia Soaemias', 'Julia Titi', 'Julian I',\n",
      " 'Julian II', 'Julius Marinus', 'Julius Nepos', 'Laelianus', 'Leo I', 'Leo II',\n",
      " 'Severus III (Libius Severus)', 'Libo', 'Licinia Eudoxia', 'Licinius I',\n",
      " 'Licinius II', 'Livia', 'Livilla', 'Lucilla', 'Lucius Verus', 'Macrianus',\n",
      " 'Macrinus', 'Magnentius', 'Magnia Urbica', 'Magnus Maximus', 'Majorian',\n",
      " 'Manlia Scantilla', 'Marcian', 'Marciana', 'Marcus Aurelius', 'Mariniana',\n",
      " 'Marius', 'Martinian', 'Matidia', 'Maxentius', 'Maximianus', 'Maximinus I',\n",
      " 'Maximinus II', 'Maximus', 'Maximus Of Spain', 'Valeria Messalina',\n",
      " 'Statilia Messalina', 'Nepotian', 'Nero', 'Nero And Drusus Caesars',\n",
      " 'Nero Claudius Drusus', 'Nerva', 'Nigrinian', 'Numerian', 'Octavia', 'Orbiana',\n",
      " 'Otacilia Severa', 'Otho', 'Pacatian', 'Paulina', 'Pertinax',\n",
      " 'Pescennius Niger', 'Petronius Maximus', 'Philip I', 'Philip II', 'Plautilla',\n",
      " 'Plotina', 'Poppaea', 'Postumus', 'Priscus Attalus', 'Probus', 'Procopius',\n",
      " 'Proculus', 'Pulcheria', 'Pupienus', 'Quietus', 'Quintillus', 'Regalianus',\n",
      " 'Romulus', 'Romulus Augustus', 'Sabina', 'Salonina', 'Saloninus',\n",
      " 'Sebastianus', 'Sejanus', 'Septimius Severus', 'Severina', 'Severus II',\n",
      " 'Severus III (Libius Severus)', 'Severus Alexander', 'Statilia Messalina',\n",
      " 'Tacitus', 'Ancient Tesserae', 'Tetricus I', 'Tetricus II', 'Theodora',\n",
      " 'Theodosius I', 'Theodosius II', 'Tiberius', 'Titus', 'Trajan',\n",
      " 'Trajan Decius', 'Tranquillina', 'Trebonianus Gallus',\n",
      " 'Uranius Sulpius Antoninus', 'Vabalathus', 'Valens', 'Valentinian I',\n",
      " 'Valentinian II', 'Valentinian III', 'Valeria Messalina', 'Valerian I',\n",
      " 'Valerian II', 'Valerius Valens', 'Varbanov', 'Varus', 'Vespasian',\n",
      " 'Vespasian II', 'Vetranio', 'Victorinus', 'Vindix', 'Vitellius', 'Volusian',\n",
      " 'Zeno', 'Zenobia', 'Zenonis']\n",
      "Out of 231 soups, 125 are missing subtitles.\n",
      "['Wife of Zeno and Anastasius, daughter of Leo I, mother of Leo II. Augusta '\n",
      " '474-474 and 477-491 AD.',\n",
      " None, 'Wife of Leo I. Died 484 AD.',\n",
      " 'Aelius, Caesar under Hadrian, AD 136-138.', 'Aemilian, 253 AD.',\n",
      " 'Marcus Agrippa, general and son-in-law of Augustus; died 12 BC.', None, None,\n",
      " None, None, None, None, 'Son of Marcus Aurelius. Died 161 AD.', None,\n",
      " 'All entries of Anthemius are from RIC X.', 'Antinous, companion of Hadrian',\n",
      " None, None,\n",
      " 'Aquilia Severa, 2nd & 4th wife of Elagabalus; Augusta AD 220-221 & 221-222.',\n",
      " 'Arcadius, 383-408 AD', None,\n",
      " 'Octavian: Senator, Consul and Triumvir from 43 BC; de-facto sole ruler from '\n",
      " '27 BC; proclaimed Augustus, emperor 12 BC - 14 AD.',\n",
      " 'NOTE: Many ORIENS types of Milan and Siscia have identical markings, '\n",
      " 'reverses, legends and mintmarks. To aid identification: Long neck: Sisica; '\n",
      " 'Wide upper body and',\n",
      " None, None, 'Sear5 8487', None,\n",
      " \"Bonosus, of British descent and a general during Probus' reign, rebelled \"\n",
      " 'against the emperor and made himself emperor of Gaul. After a very brief '\n",
      " 'reign he was defeated by Probus.',\n",
      " None, '[RPC 185]', 'RPC_2564', None, None, None,\n",
      " 'M. Aurelius Carinus, Caesar 282-283 AD, Augustus 283-285 AD.',\n",
      " 'Carus, 282-283 AD', 'NOW SORTED INTO TYPES', 'RIC 72', None, None,\n",
      " 'Sear 6145', 'NEW SEAR NUMBERS',\n",
      " 'Commodus, Caesar 172-179, Augustus 179-192 AD.', None, None,\n",
      " 'Constantine II, Caesar 317-337 AD, Augustus 337-340 AD.', None,\n",
      " 'Constantius I Chlorus: Father of Constantine I, governor of Dalmatia under '\n",
      " 'Carus in AD 282, named Caesar by Maximianus Herculeus in AD 292 and '\n",
      " 'proclaimed Emperor by Maximianus in 305. Died in York in AD 306.',\n",
      " None, None, None, 'Aegeae', None,\n",
      " 'Crispus, son of Constantine, Caesar 317-326 AD.', None, None, 'RIC 102',\n",
      " 'RIC 10', 'Didius Julianus, March-June, AD 193.', None,\n",
      " 'Domitia Longina, wife of Domitian. Augusta, 82-83 AD.', None,\n",
      " 'Domitian: Caesar under Vespasian 69-79 AD; Caesar under Titus 79-81 AD; '\n",
      " 'Augustus 81-96 AD.',\n",
      " None, None, None, None, None,\n",
      " 'Wife of the usurper Regalianus, 260 AD. Coins of the pair were usually '\n",
      " 'overstruck on coins of earlier emperors.',\n",
      " None, 'Eudocia, Wife of Theodosius II; Augusta 423-441 AD.',\n",
      " 'Aelia Eudoxia, wife of Arcadius, AD 400-404.', None, None, None, None,\n",
      " 'Faustina II, daughter of Antoninus Pius and wife of Marcus Aurelius.', None,\n",
      " 'Flavius Victor, the young son of Magnus Maximus. 387-388 AD.', None,\n",
      " 'RPC_2564', 'Galba, AD 68-69.',\n",
      " 'Galeria Valeria, wife of Galerius, 305-311 AD. All coins from RIC VI.',\n",
      " 'RIC numbers with specific city attributions are from RIC Volume VI, others '\n",
      " 'are from Volume V Part 2.',\n",
      " 'Galerius Antoninus, Son of Antoninus Pius & Faustina I, died before 138 AD.',\n",
      " 'Galla Placidia, mother of Valentinian III.',\n",
      " 'Gallienus; joint reign with Valerian 253-260 AD; sole reign 260-268 AD', None,\n",
      " None,\n",
      " 'Geta: Caesar 198-209 AD; Co-Augustus with Caracalla 209-212 AD. Murdered by '\n",
      " 'Caracalla in AD 212.',\n",
      " 'Glycerius, 473-474 AD.', None, None, None, None, 'RSC 749',\n",
      " '336-337 AD. The nephew of Constantine, named King of Armenia, Pontus and '\n",
      " \"Cappadocia. Killed in the power struggle that ensued after Constantine's \"\n",
      " 'death in AD 337.',\n",
      " 'Helena', None, None,\n",
      " 'Ca. AD 440-450. Honoria, the older sister of Valentinian III, secretly '\n",
      " 'married the imperial chamberlain, Eugenius, who was then executed. '\n",
      " 'Valentinian demanded that she marry an elderly senator Herculanus Bassus. In '\n",
      " 'an attempt to avoid this fate, Honoria wrote to Attila the Hun offering to '\n",
      " 'become his wife and this apparently led to the battle on the Catalonian '\n",
      " 'Fields. According to some sources she married Herculanus after all.',\n",
      " None, None, 'Johannes, 423-425 AD.', None,\n",
      " 'Emperor 363-364 AD. Elected Roman Emperor by the army upon the death of '\n",
      " 'Julian II, Jovian reestablished Christianity as the official religion of the '\n",
      " 'Empire.',\n",
      " 'Note: For the VICTORIA.. reverse legend types, the legend break helps to '\n",
      " 'pinpoint the reference number.',\n",
      " None, 'Sear 6567', 'Julia Maesa, Grandmother of Elagabalus.', None, None, None,\n",
      " 'Julia Titi or Julia Flavia, Daughter of Titus', None, None, None, None,\n",
      " 'Ulpius Cornelius Laelianus, usurper against Postumus, 269 AD.',\n",
      " 'The AE coinage of Leo I was often engraved in a very careless manner with '\n",
      " 'misspelled or garbled legends and often struck on flans too small for the '\n",
      " 'dies. There are a huge number of unlisted variations not in RIC etc.',\n",
      " None, None, None, None, None,\n",
      " 'Licinius II, Caesar 317-324 AD. Murdered by order of Constantine I.', None,\n",
      " None, None, 'Lucius Verus, Junior Co-Emperor of Marcus Aurelius, 161-169 AD.',\n",
      " 'Macrianus II, Brother of Quietus, 260-261 AD.', 'Sear 7348', None, None,\n",
      " 'Magnus Maximus, Usurper and Emperor of Britain, Spain, Gaul & Africa, '\n",
      " '383-388 AD.',\n",
      " 'Majorian, AD 457-461.',\n",
      " 'Manlia Scantilla, Wife of Didius Julianus; Augusta 193 AD.', '[RIC 545]',\n",
      " None, None, 'Mariniana, Wife of Valerian I, died before 253 AD.', None, None,\n",
      " None, None, 'Maximianus Herculeus, Augustus 286-305, 307-308, and 310 AD',\n",
      " None, None, None, None, 'Valeria Messalina, 3rd wife of Claudius',\n",
      " '[RPC 2632]', None, 'Nero, Caesar 50-54, Augustus 54-68 AD',\n",
      " 'RIC 34 [Caligula]', None, None,\n",
      " 'Nigrinian, probably the son of Carinus, died ca 284 AD.', 'RIC 394',\n",
      " 'Octavia, Daughter of Claudius and Messalina, wife of Nero', None, None,\n",
      " '[RIC 7]Otho, January 15th - April 15th, 69 AD.', None,\n",
      " 'Paulina, wife of Maximinus I', None, None, None, None, None, None, None, None,\n",
      " None, 'Cohen -2', 'Marcus Aurelius Probus, 276-282 AD',\n",
      " '363-366 AD. After the death of Julian II in AD 363, it was rumoured that '\n",
      " 'Procopius had been named successor but the army selected Jovian. Three years '\n",
      " 'later, Procopius and his dwindling army tried to confront the new emperor '\n",
      " 'Valens, but he was captured after the battle of Nacolia in Summer 366 and '\n",
      " 'executed.',\n",
      " 'Proculus, Usurper 280-281 AD. Executed by Probus. This page shows the only '\n",
      " 'two Proculus coins found before Nov. 2012.',\n",
      " None, 'M Clodius Pupienus Maximus, 238 AD.', None, None, None, None,\n",
      " 'Romulus Augustus, the last emperor of the Western Empire, October 475 - '\n",
      " 'September 476 AD. Son of Orestes. Deposed by the Hunnic Odovacar.',\n",
      " None, 'Salonina, Wife of Gallienus. AD 253-268.',\n",
      " 'Saloninus, Son of Gallienus & Salonina, Brother of Valerian II; Caesar '\n",
      " '258-260 AD, Augustus ca June-July, 260 AD',\n",
      " 'Sebastianus, Brother of Jovinus, 412-413 AD.', None, None,\n",
      " 'Ulpia Severina: wife of Aurelian, entitled Augusta in 274 AD. Ruled in her '\n",
      " \"own right in 275 AD, between Aurelian's death and the accession of Tacitus.\",\n",
      " 'Severus II, Caesar 305-AD 306, Augustus 306-307 AD.', None,\n",
      " 'Severus Alexander. Caesar 221-222 AD, Augustus 222-235 AD.', '[RPC 2632]',\n",
      " 'Tacitus, 275-276 AD.', None,\n",
      " 'Tetricus I, Separatist Emperor of the Gallic Empire, 270-273 AD.', 'RIC 260',\n",
      " None, None, 'Thedosius II, 408-450 AD.', 'Tiberius. 14-37 AD.',\n",
      " 'Imperial Issues Minted under Vespasian, 69-79 AD.', None,\n",
      " 'Trajan Decius, 249-251 AD.', None, 'Trebonianus Gallus, 251-253 AD',\n",
      " 'Usurper, claimed the title in Emesa after the invasion of the Syrian '\n",
      " 'province by the Persians in AD 253-254. He was sent packing by Valerian who '\n",
      " 'restored Roman authority in Syria in AD 254.',\n",
      " None, 'Valens, Emperor of the Eastern Roman Empire, 364-378 AD.', None, None,\n",
      " 'Valentinian III, 425-255 AD.', 'Valeria Messalina, 3rd wife of Claudius',\n",
      " None, None, None,\n",
      " 'The two copper \"coins\" on this page were made by a friend of Ivan and I am '\n",
      " 'adding them to this special \"emperor\\'s\" page as a token of my thanks, '\n",
      " 'friendship and respect.',\n",
      " None, 'T Flavius Vespasianus, 69-79 AD.',\n",
      " 'Vespasian the Younger, great nephew and adopted heir of Domitian', None, None,\n",
      " None, 'Vitellius, 2 January - 20 December, 69 AD', None, None, None, None]\n",
      "Out of 41226 coins in 231 soups, there are:\n",
      "  820 missing metal values\n",
      "    5 unique metal values: ['Gold' 'Copper' 'Silver' 'Brass' None 'FAKE']\n",
      "  17437 missing year values\n",
      "    491 unique year values\n",
      "      Mean: 216.87708604817354, Median: 218.0, Min: -1866.0, Max: 2414.0\n",
      "  2385 missing id values\n",
      "    33627 unique id values\n",
      "  31222 missing mass values\n",
      "    2601 unique mass values\n",
      "      Mean: 10.621907536985209, Median: 7.595, Min: 0.0, Max: 970.0\n",
      "  35523 missing diameter values\n",
      "    506 unique diameter values\n",
      "      Mean: 23.6932211116956, Median: 23.0, Min: 0.0, Max: 1455.0\n",
      "  23409 missing inscriptions values\n",
      "    20 unique inscriptions\n",
      "      ['COS', 'CAES', 'TR', 'SC', 'AVG', 'CAESAR', 'PM', 'CENS', 'PP', 'IMP', 'PO', 'GERM', 'TRIB POT', 'C', 'PF', 'AVGVSTVS', 'PON MAX', 'BRIT', 'RESTITVT', 'CONSVL']\n"
     ]
    }
   ],
   "source": [
    "test_pull_title(all_soups)\n",
    "test_pull_subtitle(all_soups)\n",
    "coin_tests(all_soups)"
   ]
  },
  {
   "attachments": {},
   "cell_type": "markdown",
   "metadata": {},
   "source": [
    "## Combine it all into a single Dataframe"
   ]
  },
  {
   "cell_type": "code",
   "execution_count": 144,
   "metadata": {},
   "outputs": [
    {
     "name": "stderr",
     "output_type": "stream",
     "text": [
      "/tmp/ipykernel_46697/2951457250.py:4: FutureWarning: The behavior of DataFrame concatenation with empty or all-NA entries is deprecated. In a future version, this will no longer exclude empty or all-NA columns when determining the result dtypes. To retain the old behavior, exclude the relevant entries before the concat operation.\n",
      "  return pd.concat(dfs, ignore_index=True)\n"
     ]
    }
   ],
   "source": [
    "roman_coins_raw = combine_coin_dfs(all_soups)"
   ]
  },
  {
   "attachments": {},
   "cell_type": "markdown",
   "metadata": {},
   "source": [
    "### Check data quality"
   ]
  },
  {
   "cell_type": "code",
   "execution_count": 145,
   "metadata": {},
   "outputs": [
    {
     "data": {
      "text/html": [
       "<div>\n",
       "<style scoped>\n",
       "    .dataframe tbody tr th:only-of-type {\n",
       "        vertical-align: middle;\n",
       "    }\n",
       "\n",
       "    .dataframe tbody tr th {\n",
       "        vertical-align: top;\n",
       "    }\n",
       "\n",
       "    .dataframe thead th {\n",
       "        text-align: right;\n",
       "    }\n",
       "</style>\n",
       "<table border=\"1\" class=\"dataframe\">\n",
       "  <thead>\n",
       "    <tr style=\"text-align: right;\">\n",
       "      <th></th>\n",
       "      <th>title</th>\n",
       "      <th>id</th>\n",
       "      <th>metal</th>\n",
       "      <th>mass</th>\n",
       "      <th>diameter</th>\n",
       "      <th>era</th>\n",
       "      <th>year</th>\n",
       "      <th>inscriptions</th>\n",
       "      <th>txt</th>\n",
       "    </tr>\n",
       "  </thead>\n",
       "  <tbody>\n",
       "    <tr>\n",
       "      <th>0</th>\n",
       "      <td>Aelia Ariadne</td>\n",
       "      <td>RIC_0933a</td>\n",
       "      <td>Gold</td>\n",
       "      <td>1.46</td>\n",
       "      <td>14.0</td>\n",
       "      <td>AD</td>\n",
       "      <td>491.0</td>\n",
       "      <td>None</td>\n",
       "      <td>RIC_0933a.txt</td>\n",
       "    </tr>\n",
       "    <tr>\n",
       "      <th>1</th>\n",
       "      <td>Aelia Ariadne</td>\n",
       "      <td>RIC_933v</td>\n",
       "      <td>Gold</td>\n",
       "      <td>1.47</td>\n",
       "      <td>15.0</td>\n",
       "      <td>AD</td>\n",
       "      <td>491.0</td>\n",
       "      <td>None</td>\n",
       "      <td>RIC_933v.txt</td>\n",
       "    </tr>\n",
       "    <tr>\n",
       "      <th>2</th>\n",
       "      <td>Aelia Ariadne</td>\n",
       "      <td>RIC_0933var2</td>\n",
       "      <td>Gold</td>\n",
       "      <td>4.47</td>\n",
       "      <td>NaN</td>\n",
       "      <td>AD</td>\n",
       "      <td>474.0</td>\n",
       "      <td>None</td>\n",
       "      <td>RIC_0933var2.txt</td>\n",
       "    </tr>\n",
       "    <tr>\n",
       "      <th>3</th>\n",
       "      <td>Aelia Ariadne</td>\n",
       "      <td>RIC_0938</td>\n",
       "      <td>Gold</td>\n",
       "      <td>1.47</td>\n",
       "      <td>NaN</td>\n",
       "      <td>AD</td>\n",
       "      <td>474.0</td>\n",
       "      <td>None</td>\n",
       "      <td>RIC_0938.txt</td>\n",
       "    </tr>\n",
       "    <tr>\n",
       "      <th>4</th>\n",
       "      <td>Aelia Flaccilla</td>\n",
       "      <td>alexandria_RIC_017</td>\n",
       "      <td>Copper</td>\n",
       "      <td>NaN</td>\n",
       "      <td>NaN</td>\n",
       "      <td>None</td>\n",
       "      <td>NaN</td>\n",
       "      <td>None</td>\n",
       "      <td>_alexandria_RIC_017.txt</td>\n",
       "    </tr>\n",
       "    <tr>\n",
       "      <th>5</th>\n",
       "      <td>Aelia Flaccilla</td>\n",
       "      <td>antioch_RIC_054</td>\n",
       "      <td>Copper</td>\n",
       "      <td>NaN</td>\n",
       "      <td>NaN</td>\n",
       "      <td>None</td>\n",
       "      <td>NaN</td>\n",
       "      <td>None</td>\n",
       "      <td>_antioch_RIC_054.txt</td>\n",
       "    </tr>\n",
       "    <tr>\n",
       "      <th>6</th>\n",
       "      <td>Aelia Flaccilla</td>\n",
       "      <td>antioch_RIC_061</td>\n",
       "      <td>Copper</td>\n",
       "      <td>NaN</td>\n",
       "      <td>NaN</td>\n",
       "      <td>None</td>\n",
       "      <td>NaN</td>\n",
       "      <td>None</td>\n",
       "      <td>_antioch_RIC_061.txt</td>\n",
       "    </tr>\n",
       "    <tr>\n",
       "      <th>7</th>\n",
       "      <td>Aelia Flaccilla</td>\n",
       "      <td>antioch_RIC_061_G</td>\n",
       "      <td>Copper</td>\n",
       "      <td>NaN</td>\n",
       "      <td>NaN</td>\n",
       "      <td>None</td>\n",
       "      <td>NaN</td>\n",
       "      <td>None</td>\n",
       "      <td>_antioch_RIC_061_G.txt</td>\n",
       "    </tr>\n",
       "    <tr>\n",
       "      <th>8</th>\n",
       "      <td>Aelia Flaccilla</td>\n",
       "      <td>antioch_RIC_062,D</td>\n",
       "      <td>Copper</td>\n",
       "      <td>NaN</td>\n",
       "      <td>NaN</td>\n",
       "      <td>None</td>\n",
       "      <td>NaN</td>\n",
       "      <td>None</td>\n",
       "      <td>_antioch_RIC_062,D.txt</td>\n",
       "    </tr>\n",
       "    <tr>\n",
       "      <th>9</th>\n",
       "      <td>Aelia Flaccilla</td>\n",
       "      <td>antioch_RIC_062</td>\n",
       "      <td>Copper</td>\n",
       "      <td>NaN</td>\n",
       "      <td>22.0</td>\n",
       "      <td>None</td>\n",
       "      <td>NaN</td>\n",
       "      <td>None</td>\n",
       "      <td>_antioch_RIC_062.txt</td>\n",
       "    </tr>\n",
       "  </tbody>\n",
       "</table>\n",
       "</div>"
      ],
      "text/plain": [
       "             title                  id   metal  mass  diameter   era   year  \\\n",
       "0    Aelia Ariadne           RIC_0933a    Gold  1.46      14.0    AD  491.0   \n",
       "1    Aelia Ariadne            RIC_933v    Gold  1.47      15.0    AD  491.0   \n",
       "2    Aelia Ariadne        RIC_0933var2    Gold  4.47       NaN    AD  474.0   \n",
       "3    Aelia Ariadne            RIC_0938    Gold  1.47       NaN    AD  474.0   \n",
       "4  Aelia Flaccilla  alexandria_RIC_017  Copper   NaN       NaN  None    NaN   \n",
       "5  Aelia Flaccilla     antioch_RIC_054  Copper   NaN       NaN  None    NaN   \n",
       "6  Aelia Flaccilla     antioch_RIC_061  Copper   NaN       NaN  None    NaN   \n",
       "7  Aelia Flaccilla   antioch_RIC_061_G  Copper   NaN       NaN  None    NaN   \n",
       "8  Aelia Flaccilla   antioch_RIC_062,D  Copper   NaN       NaN  None    NaN   \n",
       "9  Aelia Flaccilla     antioch_RIC_062  Copper   NaN      22.0  None    NaN   \n",
       "\n",
       "  inscriptions                      txt  \n",
       "0         None            RIC_0933a.txt  \n",
       "1         None             RIC_933v.txt  \n",
       "2         None         RIC_0933var2.txt  \n",
       "3         None             RIC_0938.txt  \n",
       "4         None  _alexandria_RIC_017.txt  \n",
       "5         None     _antioch_RIC_054.txt  \n",
       "6         None     _antioch_RIC_061.txt  \n",
       "7         None   _antioch_RIC_061_G.txt  \n",
       "8         None   _antioch_RIC_062,D.txt  \n",
       "9         None     _antioch_RIC_062.txt  "
      ]
     },
     "execution_count": 145,
     "metadata": {},
     "output_type": "execute_result"
    }
   ],
   "source": [
    "roman_coins_raw.head(10)"
   ]
  },
  {
   "cell_type": "code",
   "execution_count": 146,
   "metadata": {},
   "outputs": [
    {
     "name": "stdout",
     "output_type": "stream",
     "text": [
      "<class 'pandas.core.frame.DataFrame'>\n",
      "RangeIndex: 41226 entries, 0 to 41225\n",
      "Data columns (total 9 columns):\n",
      " #   Column        Non-Null Count  Dtype  \n",
      "---  ------        --------------  -----  \n",
      " 0   title         41226 non-null  object \n",
      " 1   id            38841 non-null  object \n",
      " 2   metal         40406 non-null  object \n",
      " 3   mass          10004 non-null  float64\n",
      " 4   diameter      5703 non-null   float64\n",
      " 5   era           23995 non-null  object \n",
      " 6   year          23789 non-null  float64\n",
      " 7   inscriptions  17817 non-null  object \n",
      " 8   txt           38838 non-null  object \n",
      "dtypes: float64(3), object(6)\n",
      "memory usage: 2.8+ MB\n"
     ]
    }
   ],
   "source": [
    "roman_coins_raw.info()"
   ]
  },
  {
   "cell_type": "code",
   "execution_count": 147,
   "metadata": {},
   "outputs": [
    {
     "data": {
      "text/html": [
       "<div>\n",
       "<style scoped>\n",
       "    .dataframe tbody tr th:only-of-type {\n",
       "        vertical-align: middle;\n",
       "    }\n",
       "\n",
       "    .dataframe tbody tr th {\n",
       "        vertical-align: top;\n",
       "    }\n",
       "\n",
       "    .dataframe thead th {\n",
       "        text-align: right;\n",
       "    }\n",
       "</style>\n",
       "<table border=\"1\" class=\"dataframe\">\n",
       "  <thead>\n",
       "    <tr style=\"text-align: right;\">\n",
       "      <th></th>\n",
       "      <th>mass</th>\n",
       "      <th>diameter</th>\n",
       "      <th>year</th>\n",
       "    </tr>\n",
       "  </thead>\n",
       "  <tbody>\n",
       "    <tr>\n",
       "      <th>count</th>\n",
       "      <td>10004.000000</td>\n",
       "      <td>5703.000000</td>\n",
       "      <td>23789.000000</td>\n",
       "    </tr>\n",
       "    <tr>\n",
       "      <th>mean</th>\n",
       "      <td>10.621908</td>\n",
       "      <td>23.693221</td>\n",
       "      <td>216.877086</td>\n",
       "    </tr>\n",
       "    <tr>\n",
       "      <th>std</th>\n",
       "      <td>13.876672</td>\n",
       "      <td>20.080914</td>\n",
       "      <td>102.826775</td>\n",
       "    </tr>\n",
       "    <tr>\n",
       "      <th>min</th>\n",
       "      <td>0.000000</td>\n",
       "      <td>0.000000</td>\n",
       "      <td>-1866.000000</td>\n",
       "    </tr>\n",
       "    <tr>\n",
       "      <th>25%</th>\n",
       "      <td>3.980000</td>\n",
       "      <td>19.000000</td>\n",
       "      <td>161.000000</td>\n",
       "    </tr>\n",
       "    <tr>\n",
       "      <th>50%</th>\n",
       "      <td>7.595000</td>\n",
       "      <td>23.000000</td>\n",
       "      <td>218.000000</td>\n",
       "    </tr>\n",
       "    <tr>\n",
       "      <th>75%</th>\n",
       "      <td>13.440000</td>\n",
       "      <td>27.000000</td>\n",
       "      <td>294.000000</td>\n",
       "    </tr>\n",
       "    <tr>\n",
       "      <th>max</th>\n",
       "      <td>970.000000</td>\n",
       "      <td>1455.000000</td>\n",
       "      <td>2414.000000</td>\n",
       "    </tr>\n",
       "  </tbody>\n",
       "</table>\n",
       "</div>"
      ],
      "text/plain": [
       "               mass     diameter          year\n",
       "count  10004.000000  5703.000000  23789.000000\n",
       "mean      10.621908    23.693221    216.877086\n",
       "std       13.876672    20.080914    102.826775\n",
       "min        0.000000     0.000000  -1866.000000\n",
       "25%        3.980000    19.000000    161.000000\n",
       "50%        7.595000    23.000000    218.000000\n",
       "75%       13.440000    27.000000    294.000000\n",
       "max      970.000000  1455.000000   2414.000000"
      ]
     },
     "execution_count": 147,
     "metadata": {},
     "output_type": "execute_result"
    }
   ],
   "source": [
    "roman_coins_raw.describe()"
   ]
  },
  {
   "cell_type": "code",
   "execution_count": 1,
   "metadata": {},
   "outputs": [
    {
     "ename": "NameError",
     "evalue": "name 'roman_coins_raw' is not defined",
     "output_type": "error",
     "traceback": [
      "\u001b[0;31m---------------------------------------------------------------------------\u001b[0m",
      "\u001b[0;31mNameError\u001b[0m                                 Traceback (most recent call last)",
      "\u001b[1;32m/home/vbalalian/RomanCoins/web_scraping/web_scraper.ipynb Cell 67\u001b[0m line \u001b[0;36m1\n\u001b[0;32m----> <a href='vscode-notebook-cell://wsl%2Bubuntu/home/vbalalian/RomanCoins/web_scraping/web_scraper.ipynb#Y123sdnNjb2RlLXJlbW90ZQ%3D%3D?line=0'>1</a>\u001b[0m roman_coins \u001b[39m=\u001b[39m roman_coins_raw\u001b[39m.\u001b[39mdrop_duplicates(subset\u001b[39m=\u001b[39m[\u001b[39m'\u001b[39m\u001b[39mid\u001b[39m\u001b[39m'\u001b[39m], keep\u001b[39m=\u001b[39m\u001b[39m'\u001b[39m\u001b[39mfirst\u001b[39m\u001b[39m'\u001b[39m)\u001b[39m.\u001b[39mreset_index()\n",
      "\u001b[0;31mNameError\u001b[0m: name 'roman_coins_raw' is not defined"
     ]
    }
   ],
   "source": [
    "roman_coins = roman_coins_raw.drop_duplicates(subset=['id'], keep='first')"
   ]
  },
  {
   "cell_type": "code",
   "execution_count": 164,
   "metadata": {},
   "outputs": [],
   "source": [
    "roman_coins['metal'].fillna('None')\n",
    "roman_coins['era'].fillna('None')\n",
    "metal_categories = ['None', 'FAKE', 'Brass', 'Copper', 'Silver', 'Gold']\n",
    "roman_coins['metal'] = pd.Categorical(roman_coins['metal'], categories=metal_categories, ordered=True)\n",
    "era_categories = ['None', 'BC', 'AD']\n",
    "roman_coins['era'] = pd.Categorical(roman_coins['era'], categories=era_categories, ordered=True)"
   ]
  },
  {
   "cell_type": "code",
   "execution_count": 165,
   "metadata": {},
   "outputs": [],
   "source": [
    "# Export roman_coins DataFrame as csv\n",
    "roman_coins.to_csv('roman_coins.csv', index=False)"
   ]
  },
  {
   "cell_type": "code",
   "execution_count": 166,
   "metadata": {},
   "outputs": [
    {
     "name": "stdout",
     "output_type": "stream",
     "text": [
      "<class 'pandas.core.frame.DataFrame'>\n",
      "RangeIndex: 33628 entries, 0 to 33627\n",
      "Data columns (total 10 columns):\n",
      " #   Column        Non-Null Count  Dtype   \n",
      "---  ------        --------------  -----   \n",
      " 0   index         33628 non-null  int64   \n",
      " 1   title         33628 non-null  object  \n",
      " 2   id            33627 non-null  object  \n",
      " 3   metal         33001 non-null  category\n",
      " 4   mass          9008 non-null   float64 \n",
      " 5   diameter      4927 non-null   float64 \n",
      " 6   era           19479 non-null  category\n",
      " 7   year          19278 non-null  float64 \n",
      " 8   inscriptions  11659 non-null  object  \n",
      " 9   txt           33624 non-null  object  \n",
      "dtypes: category(2), float64(3), int64(1), object(4)\n",
      "memory usage: 2.1+ MB\n"
     ]
    }
   ],
   "source": [
    "roman_coins.info()"
   ]
  },
  {
   "cell_type": "code",
   "execution_count": 167,
   "metadata": {},
   "outputs": [
    {
     "data": {
      "text/html": [
       "<div>\n",
       "<style scoped>\n",
       "    .dataframe tbody tr th:only-of-type {\n",
       "        vertical-align: middle;\n",
       "    }\n",
       "\n",
       "    .dataframe tbody tr th {\n",
       "        vertical-align: top;\n",
       "    }\n",
       "\n",
       "    .dataframe thead th {\n",
       "        text-align: right;\n",
       "    }\n",
       "</style>\n",
       "<table border=\"1\" class=\"dataframe\">\n",
       "  <thead>\n",
       "    <tr style=\"text-align: right;\">\n",
       "      <th></th>\n",
       "      <th>index</th>\n",
       "      <th>mass</th>\n",
       "      <th>diameter</th>\n",
       "      <th>year</th>\n",
       "    </tr>\n",
       "  </thead>\n",
       "  <tbody>\n",
       "    <tr>\n",
       "      <th>count</th>\n",
       "      <td>33628.000000</td>\n",
       "      <td>9008.000000</td>\n",
       "      <td>4927.000000</td>\n",
       "      <td>19278.000000</td>\n",
       "    </tr>\n",
       "    <tr>\n",
       "      <th>mean</th>\n",
       "      <td>19886.251279</td>\n",
       "      <td>10.729988</td>\n",
       "      <td>23.493450</td>\n",
       "      <td>226.292354</td>\n",
       "    </tr>\n",
       "    <tr>\n",
       "      <th>std</th>\n",
       "      <td>11792.432998</td>\n",
       "      <td>14.260396</td>\n",
       "      <td>6.721918</td>\n",
       "      <td>101.806357</td>\n",
       "    </tr>\n",
       "    <tr>\n",
       "      <th>min</th>\n",
       "      <td>0.000000</td>\n",
       "      <td>0.000000</td>\n",
       "      <td>0.000000</td>\n",
       "      <td>-1866.000000</td>\n",
       "    </tr>\n",
       "    <tr>\n",
       "      <th>25%</th>\n",
       "      <td>9723.750000</td>\n",
       "      <td>4.100000</td>\n",
       "      <td>19.000000</td>\n",
       "      <td>170.000000</td>\n",
       "    </tr>\n",
       "    <tr>\n",
       "      <th>50%</th>\n",
       "      <td>19611.500000</td>\n",
       "      <td>7.800000</td>\n",
       "      <td>23.000000</td>\n",
       "      <td>222.500000</td>\n",
       "    </tr>\n",
       "    <tr>\n",
       "      <th>75%</th>\n",
       "      <td>30064.250000</td>\n",
       "      <td>13.500000</td>\n",
       "      <td>27.000000</td>\n",
       "      <td>306.000000</td>\n",
       "    </tr>\n",
       "    <tr>\n",
       "      <th>max</th>\n",
       "      <td>41223.000000</td>\n",
       "      <td>970.000000</td>\n",
       "      <td>198.000000</td>\n",
       "      <td>2414.000000</td>\n",
       "    </tr>\n",
       "  </tbody>\n",
       "</table>\n",
       "</div>"
      ],
      "text/plain": [
       "              index         mass     diameter          year\n",
       "count  33628.000000  9008.000000  4927.000000  19278.000000\n",
       "mean   19886.251279    10.729988    23.493450    226.292354\n",
       "std    11792.432998    14.260396     6.721918    101.806357\n",
       "min        0.000000     0.000000     0.000000  -1866.000000\n",
       "25%     9723.750000     4.100000    19.000000    170.000000\n",
       "50%    19611.500000     7.800000    23.000000    222.500000\n",
       "75%    30064.250000    13.500000    27.000000    306.000000\n",
       "max    41223.000000   970.000000   198.000000   2414.000000"
      ]
     },
     "execution_count": 167,
     "metadata": {},
     "output_type": "execute_result"
    }
   ],
   "source": [
    "roman_coins.describe()"
   ]
  },
  {
   "attachments": {},
   "cell_type": "markdown",
   "metadata": {},
   "source": [
    "#### Create a filtered dataset for coins with 'year' values"
   ]
  },
  {
   "cell_type": "code",
   "execution_count": 168,
   "metadata": {},
   "outputs": [
    {
     "data": {
      "text/html": [
       "<div>\n",
       "<style scoped>\n",
       "    .dataframe tbody tr th:only-of-type {\n",
       "        vertical-align: middle;\n",
       "    }\n",
       "\n",
       "    .dataframe tbody tr th {\n",
       "        vertical-align: top;\n",
       "    }\n",
       "\n",
       "    .dataframe thead th {\n",
       "        text-align: right;\n",
       "    }\n",
       "</style>\n",
       "<table border=\"1\" class=\"dataframe\">\n",
       "  <thead>\n",
       "    <tr style=\"text-align: right;\">\n",
       "      <th></th>\n",
       "      <th>index</th>\n",
       "      <th>title</th>\n",
       "      <th>id</th>\n",
       "      <th>metal</th>\n",
       "      <th>mass</th>\n",
       "      <th>diameter</th>\n",
       "      <th>era</th>\n",
       "      <th>year</th>\n",
       "      <th>inscriptions</th>\n",
       "      <th>txt</th>\n",
       "    </tr>\n",
       "  </thead>\n",
       "  <tbody>\n",
       "    <tr>\n",
       "      <th>24782</th>\n",
       "      <td>29408</td>\n",
       "      <td>Octavia</td>\n",
       "      <td>RPC_2574</td>\n",
       "      <td>Copper</td>\n",
       "      <td>0.93</td>\n",
       "      <td>NaN</td>\n",
       "      <td>BC</td>\n",
       "      <td>-43.0</td>\n",
       "      <td>None</td>\n",
       "      <td>RPC_2574.txt</td>\n",
       "    </tr>\n",
       "    <tr>\n",
       "      <th>2189</th>\n",
       "      <td>2564</td>\n",
       "      <td>Augustus</td>\n",
       "      <td>RPC_0518</td>\n",
       "      <td>Copper</td>\n",
       "      <td>NaN</td>\n",
       "      <td>NaN</td>\n",
       "      <td>BC</td>\n",
       "      <td>-40.0</td>\n",
       "      <td>None</td>\n",
       "      <td>RPC_0518.txt</td>\n",
       "    </tr>\n",
       "    <tr>\n",
       "      <th>2191</th>\n",
       "      <td>2566</td>\n",
       "      <td>Augustus</td>\n",
       "      <td>RPC_0621</td>\n",
       "      <td>Brass</td>\n",
       "      <td>15.78</td>\n",
       "      <td>30.0</td>\n",
       "      <td>BC</td>\n",
       "      <td>-38.0</td>\n",
       "      <td>None</td>\n",
       "      <td>RPC_0621.txt</td>\n",
       "    </tr>\n",
       "    <tr>\n",
       "      <th>2190</th>\n",
       "      <td>2565</td>\n",
       "      <td>Augustus</td>\n",
       "      <td>RPC_0620</td>\n",
       "      <td>Brass</td>\n",
       "      <td>18.92</td>\n",
       "      <td>30.0</td>\n",
       "      <td>BC</td>\n",
       "      <td>-38.0</td>\n",
       "      <td>[CAESAR]</td>\n",
       "      <td>RPC_0620.txt</td>\n",
       "    </tr>\n",
       "    <tr>\n",
       "      <th>2498</th>\n",
       "      <td>2874</td>\n",
       "      <td>Augustus</td>\n",
       "      <td>RPC_5421</td>\n",
       "      <td>Copper</td>\n",
       "      <td>4.27</td>\n",
       "      <td>18.0</td>\n",
       "      <td>BC</td>\n",
       "      <td>-38.0</td>\n",
       "      <td>None</td>\n",
       "      <td>RPC_5421.txt</td>\n",
       "    </tr>\n",
       "  </tbody>\n",
       "</table>\n",
       "</div>"
      ],
      "text/plain": [
       "       index     title        id   metal   mass  diameter era  year  \\\n",
       "24782  29408   Octavia  RPC_2574  Copper   0.93       NaN  BC -43.0   \n",
       "2189    2564  Augustus  RPC_0518  Copper    NaN       NaN  BC -40.0   \n",
       "2191    2566  Augustus  RPC_0621   Brass  15.78      30.0  BC -38.0   \n",
       "2190    2565  Augustus  RPC_0620   Brass  18.92      30.0  BC -38.0   \n",
       "2498    2874  Augustus  RPC_5421  Copper   4.27      18.0  BC -38.0   \n",
       "\n",
       "      inscriptions           txt  \n",
       "24782         None  RPC_2574.txt  \n",
       "2189          None  RPC_0518.txt  \n",
       "2191          None  RPC_0621.txt  \n",
       "2190      [CAESAR]  RPC_0620.txt  \n",
       "2498          None  RPC_5421.txt  "
      ]
     },
     "execution_count": 168,
     "metadata": {},
     "output_type": "execute_result"
    }
   ],
   "source": [
    "roman_coins_years = roman_coins.dropna(subset=['metal', 'year'])\n",
    "roman_coins_years = roman_coins_years[roman_coins_years['year']>float(-45.0)]\n",
    "roman_coins_years = roman_coins_years[roman_coins_years['year']<float(500)]\n",
    "roman_coins_years.sort_values(by='year').head()\n"
   ]
  },
  {
   "cell_type": "code",
   "execution_count": 169,
   "metadata": {},
   "outputs": [
    {
     "data": {
      "text/plain": [
       "Text(0.5, 1.0, 'Number of Coins by Year')"
      ]
     },
     "execution_count": 169,
     "metadata": {},
     "output_type": "execute_result"
    },
    {
     "data": {
      "image/png": "[encoded data removed]",
      "text/plain": [
       "<Figure size 1600x600 with 1 Axes>"
      ]
     },
     "metadata": {},
     "output_type": "display_data"
    }
   ],
   "source": [
    "sns.set_theme()\n",
    "fig, ax = plt.subplots(figsize=(16,6))\n",
    "sns.histplot(roman_coins_years, x='year', bins=200)\n",
    "ax.set_title('Number of Coins by Year', fontdict={'weight': 'bold', 'size': 'large'})"
   ]
  },
  {
   "cell_type": "code",
   "execution_count": 170,
   "metadata": {},
   "outputs": [
    {
     "data": {
      "text/plain": [
       "<Axes: xlabel='year'>"
      ]
     },
     "execution_count": 170,
     "metadata": {},
     "output_type": "execute_result"
    },
    {
     "data": {
      "image/png": "[encoded data removed]",
      "text/plain": [
       "<Figure size 800x400 with 1 Axes>"
      ]
     },
     "metadata": {},
     "output_type": "display_data"
    }
   ],
   "source": [
    "fig, ax = plt.subplots(figsize=(8, 4))\n",
    "sns.boxplot(roman_coins_years, x='year')"
   ]
  },
  {
   "attachments": {},
   "cell_type": "markdown",
   "metadata": {},
   "source": [
    "#### Create a filtered dataset for coins with 'mass' values"
   ]
  },
  {
   "cell_type": "code",
   "execution_count": 171,
   "metadata": {},
   "outputs": [
    {
     "data": {
      "text/plain": [
       "count    8882.000000\n",
       "mean       10.776165\n",
       "std        14.270978\n",
       "min         0.000000\n",
       "0.1%        0.598810\n",
       "1%          1.220000\n",
       "5%          2.180500\n",
       "25%         4.152500\n",
       "50%         7.880000\n",
       "75%        13.590000\n",
       "95%        26.600000\n",
       "99%        53.467500\n",
       "99.9%      89.000000\n",
       "max       970.000000\n",
       "Name: mass, dtype: float64"
      ]
     },
     "execution_count": 171,
     "metadata": {},
     "output_type": "execute_result"
    }
   ],
   "source": [
    "roman_coins_mass = roman_coins.dropna(subset=['metal', 'mass'])\n",
    "pd.to_numeric(roman_coins_mass['mass']).describe(percentiles=[.001, .01, .05, .25, .5, .75, .95, .99, .999])"
   ]
  },
  {
   "attachments": {},
   "cell_type": "markdown",
   "metadata": {},
   "source": [
    "Remove coins that fall outside the first and last tenths of a percentile"
   ]
  },
  {
   "cell_type": "code",
   "execution_count": 172,
   "metadata": {},
   "outputs": [
    {
     "data": {
      "text/plain": [
       "count    8821.000000\n",
       "mean       10.300474\n",
       "std         8.599349\n",
       "min         0.670000\n",
       "25%         4.150000\n",
       "50%         7.850000\n",
       "75%        13.490000\n",
       "max        65.920000\n",
       "Name: mass, dtype: float64"
      ]
     },
     "execution_count": 172,
     "metadata": {},
     "output_type": "execute_result"
    }
   ],
   "source": [
    "roman_coins_mass = roman_coins_mass.query('mass>.6 and mass<66')\n",
    "pd.to_numeric(roman_coins_mass['mass']).describe()"
   ]
  },
  {
   "cell_type": "code",
   "execution_count": 173,
   "metadata": {},
   "outputs": [
    {
     "data": {
      "image/png": "[encoded data removed]",
      "text/plain": [
       "<Figure size 1400x600 with 1 Axes>"
      ]
     },
     "metadata": {},
     "output_type": "display_data"
    }
   ],
   "source": [
    "plt.figure(figsize=(14, 6))\n",
    "plt.hist(x=roman_coins_mass['mass'], bins=66)\n",
    "plt.title('Coin Mass Distribution'); plt.xlabel('Mass in grams'); plt.ylabel('Number of coins')\n",
    "plt.show()"
   ]
  },
  {
   "cell_type": "code",
   "execution_count": 174,
   "metadata": {},
   "outputs": [
    {
     "name": "stdout",
     "output_type": "stream",
     "text": [
      "<class 'pandas.core.frame.DataFrame'>\n",
      "RangeIndex: 40402 entries, 0 to 40401\n",
      "Data columns (total 10 columns):\n",
      " #   Column        Non-Null Count  Dtype   \n",
      "---  ------        --------------  -----   \n",
      " 0   index         40402 non-null  int64   \n",
      " 1   title         40402 non-null  object  \n",
      " 2   id            38116 non-null  object  \n",
      " 3   metal         40402 non-null  category\n",
      " 4   mass          9876 non-null   float64 \n",
      " 5   diameter      5470 non-null   float64 \n",
      " 6   era           23543 non-null  category\n",
      " 7   year          23435 non-null  float64 \n",
      " 8   inscriptions  17482 non-null  object  \n",
      " 9   txt           38113 non-null  object  \n",
      "dtypes: category(2), float64(3), int64(1), object(4)\n",
      "memory usage: 2.5+ MB\n"
     ]
    }
   ],
   "source": [
    "roman_coins_metals = roman_coins_raw.copy()\n",
    "roman_coins_metals.dropna(subset='metal', inplace=True)\n",
    "roman_coins_metals = roman_coins_metals[roman_coins_metals['metal'] != 'FAKE'].reset_index()\n",
    "roman_coins_metals['era'].fillna('None')\n",
    "metal_categories = ['Brass', 'Copper', 'Silver', 'Gold']\n",
    "era_categories = ['None', 'BC', 'AD']\n",
    "roman_coins_metals['metal'] = pd.Categorical(roman_coins_metals['metal'], categories=metal_categories, ordered=True)\n",
    "roman_coins_metals['era'] = pd.Categorical(roman_coins_metals['era'], categories=era_categories, ordered=True)\n",
    "roman_coins_metals['mass'] = roman_coins_metals['mass'].astype('float64')\n",
    "roman_coins_metals['diameter'] = roman_coins_metals['diameter'].astype('float64')\n",
    "roman_coins_metals['year'] = roman_coins_metals['year'].astype('float64')\n",
    "roman_coins_metals.info()"
   ]
  },
  {
   "cell_type": "code",
   "execution_count": 175,
   "metadata": {},
   "outputs": [
    {
     "data": {
      "text/plain": [
       "<Axes: ylabel='mass'>"
      ]
     },
     "execution_count": 175,
     "metadata": {},
     "output_type": "execute_result"
    },
    {
     "data": {
      "image/png": "[encoded data removed]",
      "text/plain": [
       "<Figure size 640x480 with 1 Axes>"
      ]
     },
     "metadata": {},
     "output_type": "display_data"
    }
   ],
   "source": [
    "sns.boxplot(roman_coins_metals['mass'])"
   ]
  },
  {
   "cell_type": "code",
   "execution_count": 176,
   "metadata": {},
   "outputs": [
    {
     "name": "stdout",
     "output_type": "stream",
     "text": [
      "lower limit -10.25 upper limit: 27.75\n"
     ]
    }
   ],
   "source": [
    "mass_percentile_25 = roman_coins_metals['mass'].quantile(0.25)\n",
    "mass_percentile_75 = roman_coins_metals['mass'].quantile(0.75)\n",
    "mass_iqr = mass_percentile_75 - mass_percentile_25\n",
    "upper_limit = mass_percentile_75 + 1.5 * mass_iqr\n",
    "lower_limit = mass_percentile_25 - 1.5 * mass_iqr\n",
    "print('lower limit', lower_limit, 'upper limit:', upper_limit)"
   ]
  },
  {
   "attachments": {},
   "cell_type": "markdown",
   "metadata": {},
   "source": [
    "#### Since lower limit is negative, we can ignore the lower limit and simply set an upper limit"
   ]
  },
  {
   "cell_type": "code",
   "execution_count": 177,
   "metadata": {},
   "outputs": [
    {
     "name": "stdout",
     "output_type": "stream",
     "text": [
      "<class 'pandas.core.frame.DataFrame'>\n",
      "RangeIndex: 9385 entries, 0 to 9384\n",
      "Data columns (total 11 columns):\n",
      " #   Column        Non-Null Count  Dtype   \n",
      "---  ------        --------------  -----   \n",
      " 0   level_0       9385 non-null   int64   \n",
      " 1   index         9385 non-null   int64   \n",
      " 2   title         9385 non-null   object  \n",
      " 3   id            9344 non-null   object  \n",
      " 4   metal         9385 non-null   category\n",
      " 5   mass          9385 non-null   float64 \n",
      " 6   diameter      2624 non-null   float64 \n",
      " 7   era           7432 non-null   category\n",
      " 8   year          7390 non-null   float64 \n",
      " 9   inscriptions  3046 non-null   object  \n",
      " 10  txt           9343 non-null   object  \n",
      "dtypes: category(2), float64(3), int64(2), object(4)\n",
      "memory usage: 678.7+ KB\n"
     ]
    }
   ],
   "source": [
    "roman_coins_metals = roman_coins_metals[roman_coins_metals['mass'] < 26.6].reset_index()\n",
    "roman_coins_metals.info()"
   ]
  },
  {
   "cell_type": "code",
   "execution_count": 178,
   "metadata": {},
   "outputs": [
    {
     "name": "stderr",
     "output_type": "stream",
     "text": [
      "/tmp/ipykernel_46697/3989482392.py:1: FutureWarning: The default of observed=False is deprecated and will be changed to True in a future version of pandas. Pass observed=False to retain current behavior or observed=True to adopt the future default and silence this warning.\n",
      "  grouped = roman_coins_metals.groupby('metal')\n"
     ]
    },
    {
     "data": {
      "image/png": "[encoded data removed]",
      "text/plain": [
       "<Figure size 600x300 with 1 Axes>"
      ]
     },
     "metadata": {},
     "output_type": "display_data"
    },
    {
     "data": {
      "image/png": "[encoded data removed]",
      "text/plain": [
       "<Figure size 600x300 with 1 Axes>"
      ]
     },
     "metadata": {},
     "output_type": "display_data"
    },
    {
     "data": {
      "image/png": "[encoded data removed]",
      "text/plain": [
       "<Figure size 600x300 with 1 Axes>"
      ]
     },
     "metadata": {},
     "output_type": "display_data"
    },
    {
     "data": {
      "image/png": "[encoded data removed]",
      "text/plain": [
       "<Figure size 600x300 with 1 Axes>"
      ]
     },
     "metadata": {},
     "output_type": "display_data"
    }
   ],
   "source": [
    "\n",
    "grouped = roman_coins_metals.groupby('metal')\n",
    "\n",
    "for name, group in grouped:\n",
    "    plt.figure(figsize=(6, 3))\n",
    "    plt.hist(x=group['mass'], bins=30)\n",
    "    plt.title(f'Coin Mass Distribution for category {name}')\n",
    "    plt.xlabel('Mass in grams')\n",
    "    plt.ylabel('Number of coins')\n",
    "    plt.show()"
   ]
  },
  {
   "attachments": {},
   "cell_type": "markdown",
   "metadata": {},
   "source": [
    "#### Check distribution of the (limited) diameter values"
   ]
  },
  {
   "cell_type": "code",
   "execution_count": 179,
   "metadata": {},
   "outputs": [
    {
     "data": {
      "text/plain": [
       "count    4927.000000\n",
       "mean       23.493450\n",
       "std         6.721918\n",
       "min         0.000000\n",
       "0.1%        2.926000\n",
       "1%         11.000000\n",
       "5%         15.000000\n",
       "25%        19.000000\n",
       "50%        23.000000\n",
       "75%        27.000000\n",
       "95%        34.070000\n",
       "99%        40.000000\n",
       "99.9%      50.000000\n",
       "max       198.000000\n",
       "Name: diameter, dtype: float64"
      ]
     },
     "execution_count": 179,
     "metadata": {},
     "output_type": "execute_result"
    }
   ],
   "source": [
    "pd.to_numeric(roman_coins['diameter'].dropna()).describe(percentiles=[.001, .01, .05, .25, .5, .75, .95, .99, .999])"
   ]
  },
  {
   "cell_type": "code",
   "execution_count": 180,
   "metadata": {},
   "outputs": [
    {
     "data": {
      "image/png": "[encoded data removed]",
      "text/plain": [
       "<Figure size 640x480 with 1 Axes>"
      ]
     },
     "metadata": {},
     "output_type": "display_data"
    }
   ],
   "source": [
    "plt.hist(x=roman_coins.query(\"diameter > 10 and diameter < 50\")['diameter'].dropna(), bins=36)\n",
    "plt.title('Coin Diameter Distribution'); plt.xlabel('Coin Diameter in mm'); plt.ylabel('Number of coins')\n",
    "plt.show()"
   ]
  },
  {
   "attachments": {},
   "cell_type": "markdown",
   "metadata": {},
   "source": [
    "#### Precursory glance at the correlation between mass and diameter, grouped by metal"
   ]
  },
  {
   "cell_type": "code",
   "execution_count": 181,
   "metadata": {},
   "outputs": [
    {
     "data": {
      "image/png": "[encoded data removed]",
      "text/plain": [
       "<Figure size 640x480 with 1 Axes>"
      ]
     },
     "metadata": {},
     "output_type": "display_data"
    }
   ],
   "source": [
    "mass_diameter = roman_coins_mass.query(\"diameter > 10 and diameter < 40 and mass < 35\").dropna(subset=['metal', 'diameter'])\n",
    "colors = {'Gold':'gold', 'Copper':'#B87333', 'Silver':'silver', 'Brass':'#E1C16E', 'FAKE':'black'}\n",
    "ax = plt.axes(); ax.set_facecolor('#F9F7F8')\n",
    "plt.scatter(x=mass_diameter['mass'], y=mass_diameter['diameter'], c=mass_diameter['metal'].map(colors))\n",
    "plt.xlabel('Mass in grams'); plt.ylabel('Diameter in mm')\n",
    "plt.show()"
   ]
  }
 ],
 "metadata": {
  "kernelspec": {
   "display_name": "base",
   "language": "python",
   "name": "python3"
  },
  "language_info": {
   "codemirror_mode": {
    "name": "ipython",
    "version": 3
   },
   "file_extension": ".py",
   "mimetype": "text/x-python",
   "name": "python",
   "nbconvert_exporter": "python",
   "pygments_lexer": "ipython3",
   "version": "3.10.12"
  },
  "vscode": {
   "interpreter": {
    "hash": "f50a94dbaf771159da26313fc2ee78d1c8bb11c3fc2558836e83916cfc7976fb"
   }
  }
 },
 "nbformat": 4,
 "nbformat_minor": 4
}
