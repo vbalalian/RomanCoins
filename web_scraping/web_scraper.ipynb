{
 "cells": [
  {
   "attachments": {},
   "cell_type": "markdown",
   "metadata": {},
   "source": [
    "### Import libraries"
   ]
  },
  {
   "cell_type": "code",
   "execution_count": 136,
   "metadata": {},
   "outputs": [],
   "source": [
    "import pandas as pd\n",
    "import random\n",
    "from time import sleep\n",
    "import pprint\n",
    "import matplotlib.pyplot as plt\n",
    "import seaborn as sns\n",
    "import requests\n",
    "from bs4 import BeautifulSoup\n",
    "%matplotlib inline"
   ]
  },
  {
   "attachments": {},
   "cell_type": "markdown",
   "metadata": {},
   "source": [
    "### Scrape link directory\n",
    "Using BeautifulSoup, we'll scrape wildwinds.com/coins/ric/i.html for landing pages of coin subjects  in alphabetical order. As of 11/3/2023, wildwinds.com/robots.txt grants permission for webscraping requests, provided there is a delay of 30 seconds between each request, and that the webscraping software is not explicitly blacklisted."
   ]
  },
  {
   "cell_type": "code",
   "execution_count": 2,
   "metadata": {},
   "outputs": [],
   "source": [
    "with requests.get('https://www.wildwinds.com/coins/ric/i.html') as raw:\n",
    "    soup = BeautifulSoup(raw.content, 'lxml')"
   ]
  },
  {
   "attachments": {},
   "cell_type": "markdown",
   "metadata": {},
   "source": [
    "### Parse html data for a clean list of ruler names"
   ]
  },
  {
   "cell_type": "code",
   "execution_count": 3,
   "metadata": {},
   "outputs": [
    {
     "name": "stdout",
     "output_type": "stream",
     "text": [
      "First five: ['Aelia Ariadne', 'Aelia Flacilla', 'Aelia Verina', 'Aelius', 'Aemilian'] \n",
      "Last five: ['Vitellius', 'Volusian', 'Zeno', 'Zenobia', 'Zenonis'] \n",
      "231 emperors total\n"
     ]
    }
   ],
   "source": [
    "options = soup.find_all('option')\n",
    "emperors_raw = [i.contents for i in options if i.attrs['value'] != ''][:-6]\n",
    "emperors = []\n",
    "for line in emperors_raw:\n",
    "    for text in line:\n",
    "        emperors.append(text.strip())\n",
    "print(f'First five: {emperors[:5]} \\nLast five: {emperors[-5:]} \\n{len(emperors)} emperors total')"
   ]
  },
  {
   "cell_type": "markdown",
   "metadata": {},
   "source": [
    "### Generate list of usable link roots for each Emperor's coin page"
   ]
  },
  {
   "cell_type": "code",
   "execution_count": 4,
   "metadata": {},
   "outputs": [
    {
     "name": "stdout",
     "output_type": "stream",
     "text": [
      "First five: ['https://www.wildwinds.com/coins/ric/aelia_ariadne/', 'https://www.wildwinds.com/coins/ric/aelia_flaccilla/', 'https://www.wildwinds.com/coins/ric/aelia_verina/', 'https://www.wildwinds.com/coins/ric/aelius/', 'https://www.wildwinds.com/coins/ric/aemilian/'] \n",
      "Last five: ['https://www.wildwinds.com/coins/ric/vitellius/', 'https://www.wildwinds.com/coins/ric/volusian/', 'https://www.wildwinds.com/coins/ric/zeno/', 'https://www.wildwinds.com/coins/ric/zenobia/', 'https://www.wildwinds.com/coins/ric/zenonis/'] \n",
      "231 linkroots total\n"
     ]
    }
   ],
   "source": [
    "# wildwinds.com/robots.txt requires a 30-second delay between requests\n",
    "linkroots = ['https://www.wildwinds.com/coins/ric/' + i.attrs['value'][:-6] for i in options if i.attrs['value'] != ''][:-6]\n",
    "print(f'First five: {linkroots[:5]} \\nLast five: {linkroots[-5:]} \\n{len(linkroots)} linkroots total')"
   ]
  },
  {
   "cell_type": "markdown",
   "metadata": {},
   "source": [
    "### Create a semi-random list of test pages for building an adaptable parser"
   ]
  },
  {
   "cell_type": "code",
   "execution_count": 26,
   "metadata": {},
   "outputs": [
    {
     "name": "stdout",
     "output_type": "stream",
     "text": [
      "https://www.wildwinds.com/coins/ric/commodus/\n",
      "https://www.wildwinds.com/coins/ric/volusian/\n",
      "https://www.wildwinds.com/coins/ric/valentinian_II/\n",
      "https://www.wildwinds.com/coins/ric/valerius_valens/\n",
      "https://www.wildwinds.com/coins/ric/carus/\n",
      "https://www.wildwinds.com/coins/ric/galba/\n",
      "https://www.wildwinds.com/coins/ric/severus_III/\n",
      "https://www.wildwinds.com/coins/ric/tranquillina/\n",
      "https://www.wildwinds.com/coins/ric/julia_mamaea/\n",
      "https://www.wildwinds.com/coins/ric/gratian/\n"
     ]
    }
   ],
   "source": [
    "test_ids = random.choices(range(len(linkroots)), k=10) # 10 random index numbers\n",
    "test_roots = [linkroots[i] for i in test_ids] # Corresponding url roots\n",
    "for root in test_roots:\n",
    "    print(root)"
   ]
  },
  {
   "cell_type": "markdown",
   "metadata": {},
   "source": [
    "### pull html from test pages"
   ]
  },
  {
   "cell_type": "code",
   "execution_count": 56,
   "metadata": {},
   "outputs": [],
   "source": [
    "# Define function that scrapes indicated pages with 30-second delay between requests\n",
    "def scrape(url_roots: list[str]):\n",
    "    combined_pages_html = []\n",
    "    max_length = 0\n",
    "    for root in url_roots:\n",
    "        sleep(30)\n",
    "        url = root + 'i.html'\n",
    "        message = f'requesting {url} ({url_roots.index(root) + 1}/{len(url_roots)})'\n",
    "        max_length = max(max_length, len(message))\n",
    "        print(f'\\r{message.ljust(max_length)}', end=' ', flush=True)\n",
    "        page_html = requests.get(url)\n",
    "        combined_pages_html.append(page_html)\n",
    "    # After the loop, print a final message that clears the last line\n",
    "    print(f'\\rscraping complete: {url_roots.index(root) + 1}/{len(url_roots)}'.ljust(max_length))\n",
    "    return combined_pages_html"
   ]
  },
  {
   "cell_type": "code",
   "execution_count": 57,
   "metadata": {},
   "outputs": [
    {
     "name": "stdout",
     "output_type": "stream",
     "text": [
      "scraping complete: 10/10                                                     \n"
     ]
    }
   ],
   "source": [
    "# Scrape test pages' html (this takes some time with the delay)\n",
    "test_pages = scrape(test_roots)"
   ]
  },
  {
   "cell_type": "markdown",
   "metadata": {},
   "source": [
    "### Inspect test page html"
   ]
  },
  {
   "cell_type": "code",
   "execution_count": 101,
   "metadata": {},
   "outputs": [],
   "source": [
    "# Convert page html into easier-to-manipulate format using BeautifulSoup\n",
    "test_soups = [BeautifulSoup(page.content, 'lxml') for page in test_pages]"
   ]
  },
  {
   "cell_type": "code",
   "execution_count": 116,
   "metadata": {},
   "outputs": [
    {
     "name": "stdout",
     "output_type": "stream",
     "text": [
      "Test soup preview: \n",
      "\n",
      "<html>\n",
      "<head>\n",
      "<title>Galba, Roman Imperial Coins reference at WildWinds.com</title>\n",
      "<meta content=\"width=device-width, initial-scale=1\" name=\"viewport\"/>\n",
      "<base target=\"_parent\"/>\n",
      "</head>\n",
      "<body bgcolor=\"#D7D5D5\">\n",
      "<object data=\"https://www.wildwinds.com/coins/topscript.html\" height=\"160\" width=\"100%\"></object><br/>\n",
      "<center>\n",
      "<p></p><h2>Browsing Roman Imperial Coins of Galba</h2>\n",
      "<p><img src=\"toppic.jpg\"/>\n",
      "<br/><font size=\"2\"><h3>Galba, AD 68-69.</h3>\n",
      "</font></p><h3><a href=\"t.html\">Browse the Galba page with thumbnail images.</a></h3>\n",
      "<br/><b>BEWARE OF NUMEROUS MODERN BULGARIAN FAKE GALBA SESTERTII - OFTEN OF THE LIBERTAS PVBLICA TYPE - SOLD BY UNSCRUPULOUS SELLERS ON EBAY ETC. AND ALSO BEING OFFERED IN PERSON TO DEALERS ALL OVER EUROPE.</b>\n",
      "<table border=\"1\" cellpadding=\"0\" cellspacing=\"1\">\n",
      "<tr><td bgcolor=\"#B7A642\">Kraay 46</td><td>Galba, AE sestertius, Rome, officina A. AD 68. 34.2 mm, 27.88 g. SER GALBA IMP CAES AVG P M TR P, laureate head right. / Livia, draped, seated left on stool, holding patera and vertical sceptre. S-C across fields, AVGVSTA in exergue. Kraay 46; Paris 1094. Not in RIC.</td><td><a href=\"Kraay_046.txt\">Text</a><hr/><a href=\"Kraay_046_2.txt\">Text</a></td><td><a href=\"Kraay_046.jpg\">Image</a><br/><hr/><a href=\"Kraay_046_2.jpg\">Image</a></td></tr>\n",
      "<tr><td bgcolor=\"#C0C0C0\">RIC 1</td><td>Galba AR denarius, AD 68-69. Spanish mint. GALBA IMP, Galba, in military dress, on horseback right, his right hand raised / HISPANIA, bust of Hispania facing right, draped, two javelins behind, round shield below, two corn-ears before. RIC 1; Cohen 76.</td><td><a href=\"RIC_001.txt\">Text</a></td><td><a href=\"RIC_001.jpg\">Image</a></td></tr>\n",
      "<tr><td bgcolor=\"#C0C0C0\">RIC 1 var</td><td>Galba AR denarius, AD 68-69. Spanish mint. GALBA IMP, Galba, in military dress, on horseback right, his right hand raised / HISPANIA, bust of Hispania facing right, draped, two javelins behind, round shield below, (no corn-ears). RIC 1 var; Cohen 76 var.</td><td><a href=\"RIC_001var.txt\n"
     ]
    }
   ],
   "source": [
    "print(f'Test soup preview: \\n\\n{str(test_soups[5])[:2000]}')"
   ]
  },
  {
   "cell_type": "markdown",
   "metadata": {},
   "source": [
    "### Create helper functions for parsing data fields"
   ]
  },
  {
   "cell_type": "code",
   "execution_count": 98,
   "metadata": {},
   "outputs": [],
   "source": [
    "# Define function for parsing names of coin subjects\n",
    "def pull_title(soup):\n",
    "    raw_title = soup.find('title').text\n",
    "    sep_index = raw_title.find(',')\n",
    "    if sep_index == -1:\n",
    "        sep_index = raw_title.find('-')\n",
    "    return raw_title[:sep_index].strip() if sep_index != -1 else raw_title.strip()"
   ]
  },
  {
   "cell_type": "code",
   "execution_count": 103,
   "metadata": {},
   "outputs": [],
   "source": [
    "# Function to test pull_title()\n",
    "def test_pull_title(soups): \n",
    "    titles = pd.Series([pull_title(soup) for soup in soups])\n",
    "    print(f'Out of {len(soups)} soups, {titles.isna().sum()} have missing titles.')\n",
    "    print(titles.tolist())"
   ]
  },
  {
   "cell_type": "code",
   "execution_count": 100,
   "metadata": {},
   "outputs": [
    {
     "name": "stdout",
     "output_type": "stream",
     "text": [
      "Out of 10 soups, 0 have missing titles.\n",
      "['Commodus', 'Volusian', 'Valentinian II', 'Valerius Valens', 'Carus', 'Galba', 'Severus III (Libius Severus)', 'Tranquillina', 'Julia Mamaea', 'Gratian']\n"
     ]
    }
   ],
   "source": [
    "test_pull_title(test_soups)"
   ]
  },
  {
   "cell_type": "code",
   "execution_count": 105,
   "metadata": {},
   "outputs": [],
   "source": [
    "# Function to pull subtitles\n",
    "def pull_subtitle(soup):\n",
    "    possible_locations = [\n",
    "        lambda s: s.find_all('h3')[0].contents[-1],\n",
    "        lambda s: s.find('font').contents[0],\n",
    "        lambda s: s.find_all('p')[1].contents[-1],\n",
    "        lambda s: s.find_all('br')[0].contents[0],\n",
    "    ]\n",
    "    \n",
    "    for get_subtitle in possible_locations:\n",
    "        try:\n",
    "            subtitle = get_subtitle(soup)\n",
    "            if not subtitle or len(str(subtitle)) < 4:\n",
    "                continue\n",
    "            if any(keyword in str(subtitle) for keyword in ['Click', 'Browse']):\n",
    "                continue\n",
    "            if '(' in str(subtitle) or '<' in str(subtitle):\n",
    "                return None\n",
    "            return str(subtitle).strip()\n",
    "        except (IndexError, AttributeError):\n",
    "            continue \n",
    "    \n",
    "    return None"
   ]
  },
  {
   "cell_type": "code",
   "execution_count": 106,
   "metadata": {},
   "outputs": [],
   "source": [
    "# Function to test pull_subtitle()\n",
    "def test_pull_subtitle(soups):\n",
    "    subtitles = pd.Series([pull_subtitle(soup) for soup in soups])\n",
    "    print(f'Out of {len(soups)} soups, {subtitles.isna().sum()} have missing subtitles.')\n",
    "    print(subtitles.tolist()) "
   ]
  },
  {
   "cell_type": "code",
   "execution_count": 107,
   "metadata": {},
   "outputs": [
    {
     "name": "stdout",
     "output_type": "stream",
     "text": [
      "Out of 10 soups, 7 have missing subtitles.\n",
      "['Commodus, Caesar 172-179, Augustus 179-192 AD.', None, None, None, 'Carus, 282-283 AD', 'Galba, AD 68-69.', None, None, None, None]\n"
     ]
    }
   ],
   "source": [
    "test_pull_subtitle(test_soups)"
   ]
  },
  {
   "cell_type": "markdown",
   "metadata": {},
   "source": [
    "### Function to pull raw coin data"
   ]
  },
  {
   "cell_type": "code",
   "execution_count": 143,
   "metadata": {},
   "outputs": [],
   "source": [
    "def pull_coins(soup):\n",
    "    coins = [coin.contents for coin in soup.find_all('tr') if len(coin) >2 and 'bgcolor' in str(coin)]\n",
    "    return coins"
   ]
  },
  {
   "cell_type": "code",
   "execution_count": 152,
   "metadata": {},
   "outputs": [
    {
     "name": "stdout",
     "output_type": "stream",
     "text": [
      "raw coin data:\n",
      "\n",
      "[[<td bgcolor=\"#C0C0C0\">RIC 249</td>,\n",
      "  <td>Tranquillina. AR Antoninianus, Rome, AD 241. 4.54 g. SABINIA TRANQVILLINA AVG, diademed and draped bust right, on crescent. / CONCORDIA AVGG, Concordia seated left, holding patera and double cornucopiae. RIC IV 249; RSC 1.</td>,\n",
      "  <td><a href=\"RIC_0249.txt\">Text</a></td>,\n",
      "  <td><a href=\"RIC_0249.jpg\">Image</a></td>],\n",
      " [<td bgcolor=\"#C0C0C0\">RIC 250 <br/>Sear5 #8866</td>,\n",
      "  <td><a href=\"../../sear5/s8866.html#RIC_0250\">Tranquillina AR Antoninianus. Struck AD 241. SABINA TRANQVILLINA AVG, diademed draped bust right, set on crescent / CONCORDIA AVGG, Gordian III standing right, holding a roll in his left hand, clasping hand of Tranquillina standing left. RIC 250, RSC 4.</a></td>,\n",
      "  '\\n', <th colspan=\"2\"><font size=\"-2\">(One example)</font></th>],\n",
      " [' ', <td bgcolor=\"#C0C0C0\">RIC 252 <br/>Sear5 #8867</td>,\n",
      "  <td><a href=\"../../sear5/s8867.html#RIC_0252\">Tranquillina Denarius. Struck 241 AD. SABINIA TRANQVILLINA AVG, diademed draped bust right / CONCORDIA AVGG, Concordia seated left on high-backed throne, holding patera and double cornucopiae.\n",
      "</a></td>,\n",
      "  '\\n', <th colspan=\"2\"><font size=\"-2\">(One example)</font></th>],\n",
      " [<td bgcolor=\"#B87333\">RIC 340b</td>,\n",
      "  <td>Tranquillina. AE As, Rome, AD 241. 8.18 g. SABINIA TRANQVILLINA AVG, diademed and draped bust right. / CONCORDIA AVGG, SC below, Concordia seated left, holding patera and double cornucopiae. RIC IV 340b; Cohen 3; B; BMC BNK-R163.</td>,\n",
      "  <td><a href=\"RIC_0340b.txt\">Text</a></td>,\n",
      "  <td><a href=\"RIC_0340b.jpg\">Image</a></td>],\n",
      " [<td bgcolor=\"#B7A642\">RIC 341a</td>,\n",
      "  <td>Tranquillina. AE sestertius, AD 241-244. Rome. SABINIA TRANQVILLINA AVG, diademed, draped bust right / CONCORDIA AVGVSTORVM, Gordian standing right, clasping the hand of Tranquillina standing left. SC in exergue. RIC 341a; Cohen 5; Sear 8869.</td>,\n",
      "  <td><a href=\"RIC_0341a.txt\">Text</a></td>,\n",
      "  <td><a href=\"RIC_0341a.jpg\">Image</a></td>]]\n"
     ]
    }
   ],
   "source": [
    "print('raw coin data:\\n')\n",
    "pp = pprint.PrettyPrinter(compact=True)\n",
    "pp.pprint(pull_coins(test_soups[7])[:5])"
   ]
  },
  {
   "cell_type": "markdown",
   "metadata": {},
   "source": [
    "### Helper functions to parse useful data features"
   ]
  },
  {
   "cell_type": "code",
   "execution_count": 147,
   "metadata": {},
   "outputs": [],
   "source": [
    "# Function to identify coin metal\n",
    "def coin_metal(coin):\n",
    "    metals = {'#B8':'Copper','#b8':'Copper', '#FF':'Gold', '#C0':'Silver', '#B7':'Brass', '#b7':'Brass', 'red':'FAKE'}\n",
    "    try:\n",
    "        bg_color_index = int(str(coin).find('bgcolor=')) + 9\n",
    "        bg_color = str(coin)[bg_color_index:bg_color_index + 3]\n",
    "        metal = metals[bg_color]\n",
    "    except:\n",
    "        return None\n",
    "    return metal"
   ]
  },
  {
   "cell_type": "code",
   "execution_count": 153,
   "metadata": {},
   "outputs": [],
   "source": [
    "# Function to pull coin era (i.e. 'AD' or 'BC') \n",
    "def coin_era(coin):\n",
    "    coin = str(coin)\n",
    "    if 'AD' in coin:\n",
    "        return 'AD'\n",
    "    elif 'BC' in coin:\n",
    "        return 'BC'\n",
    "    else:\n",
    "        return None\n",
    "\n",
    "# Function to pull a year (not *every* year) in the coin description\n",
    "# (if there is a range of years i.e. 117-124 AD, function pulls the year closest to era i.e. '117-124 AD' returns '124', while 'AD 117-124' returns '117')\n",
    "def coin_year(coin):\n",
    "    era = coin_era(coin)\n",
    "    coin = str(coin)\n",
    "    year = 0\n",
    "    try:\n",
    "        index = coin.find(coin_era(coin))\n",
    "    except TypeError:\n",
    "        return None\n",
    "    if coin[index - 2].isnumeric():\n",
    "        if coin[index - 3].isnumeric():\n",
    "            if coin[index - 4].isnumeric():\n",
    "                year += int(coin[index-4:index-1])\n",
    "            else:\n",
    "                year += int(coin[index-3:index-1])\n",
    "        else:\n",
    "            year += int(coin[index-2])\n",
    "    elif coin[index + 3].isnumeric():\n",
    "        if coin[index + 4].isnumeric():\n",
    "            if coin[index + 5].isnumeric():\n",
    "                year += int(coin[index+3:index+6])\n",
    "            else:\n",
    "                year += int(coin[index+3:index+4])\n",
    "        else:\n",
    "            year += int(coin[index+3])\n",
    "    if era == 'AD':\n",
    "        return year\n",
    "    elif era == 'BC':\n",
    "        return -year\n",
    "    elif era == None:\n",
    "        return None"
   ]
  },
  {
   "cell_type": "markdown",
   "metadata": {},
   "source": [
    "wildwinds.com/robots.txt forbids use of their images, so those urls will not be parsed"
   ]
  },
  {
   "cell_type": "code",
   "execution_count": 19,
   "metadata": {},
   "outputs": [],
   "source": [
    "# Function to pull .txt urls\n",
    "def coin_txt(coin):\n",
    "    for item in coin:\n",
    "        item = str(item)\n",
    "        if '.txt' in item:\n",
    "            start, end = item.find('href=')+6, item.find('.txt')+4\n",
    "            return item[start:end]"
   ]
  },
  {
   "attachments": {},
   "cell_type": "markdown",
   "metadata": {},
   "source": [
    "### use code from above functions to create a crude function to pull coin_id from links"
   ]
  },
  {
   "cell_type": "code",
   "execution_count": 20,
   "metadata": {},
   "outputs": [],
   "source": [
    "def coin_id(coin):\n",
    "    coin = str(coin)\n",
    "    if '.jpg' in coin:\n",
    "        start, end = coin.rfind('href=')+6, coin.rfind('.jpg')\n",
    "        return coin[start:end]\n",
    "    elif '.txt' in coin:\n",
    "        start, end = coin.rfind('href=')+6, coin.rfind('.txt')\n",
    "        return coin[start:end]\n",
    "    else:\n",
    "        return None"
   ]
  },
  {
   "attachments": {},
   "cell_type": "markdown",
   "metadata": {},
   "source": [
    "### Create function for coin mass in grams"
   ]
  },
  {
   "cell_type": "code",
   "execution_count": 21,
   "metadata": {},
   "outputs": [],
   "source": [
    "def coin_mass(coin):\n",
    "    coin = str(coin)\n",
    "    # might be able to clean this up by creating a list of possible gram abbreviations and looping through it\n",
    "    if 'g.' in coin:\n",
    "        start = coin.find('g.')\n",
    "        if coin[start-1].isnumeric() or coin[start-2].isnumeric():\n",
    "            grams = 'g.'\n",
    "    elif 'g,' in coin:\n",
    "        start = coin.find('g,')\n",
    "        if coin[start-1].isnumeric() or coin[start-2].isnumeric():\n",
    "            grams = 'g,'\n",
    "    elif 'gm.' in coin:\n",
    "        grams = 'gm.'\n",
    "    elif 'gr.' in coin:\n",
    "        grams = 'gr.'\n",
    "    elif 'grs,' in coin:\n",
    "        grams = 'grs,'\n",
    "    elif 'grs.' in coin:\n",
    "        grams = 'grs.'\n",
    "    else:\n",
    "        return None\n",
    "    try:\n",
    "        start = coin.find(grams)\n",
    "        if coin[start-1].isnumeric():\n",
    "            if coin[start-2] == '.':\n",
    "                if coin[start-4].isnumeric():\n",
    "                    return float(coin[start-4:start])\n",
    "                else:\n",
    "                    return float(coin[start-3:start])\n",
    "        elif coin[start-3] == '.':\n",
    "            if coin[start-5].isnumeric():\n",
    "                return float(coin[start-5:start-1])\n",
    "            else:\n",
    "                return float(coin[start-4:start-1])\n",
    "        else:\n",
    "            if coin[start-6].isnumeric():\n",
    "                return float(coin[start-6:start-1])\n",
    "            else:\n",
    "                return float(coin[start-5:start-1])\n",
    "    except:\n",
    "        return None"
   ]
  },
  {
   "attachments": {},
   "cell_type": "markdown",
   "metadata": {},
   "source": [
    "### Create function for coin size in mm"
   ]
  },
  {
   "cell_type": "code",
   "execution_count": 22,
   "metadata": {},
   "outputs": [],
   "source": [
    "def coin_diameter(coin):\n",
    "    coin = str(coin)\n",
    "    if 'mm' in coin:\n",
    "        start = coin.find('mm')\n",
    "        # if there's no space between value and 'mm'\n",
    "        if coin[start-1].isnumeric():\n",
    "            if coin[start-2].isnumeric():\n",
    "                # if value contains a decimal\n",
    "                if coin[start-3] == '.': \n",
    "                    if coin[start-5:start-3].isnumeric():\n",
    "                        return float(coin[start-5:start])\n",
    "                    else:\n",
    "                        return None\n",
    "                else:\n",
    "                    return float(coin[start-2:start])\n",
    "            # if value contains a decimal\n",
    "            elif coin[start-2] == '.':\n",
    "                if coin[start-4:start-2].isnumeric():\n",
    "                    return float(coin[start-4:start])\n",
    "                else:\n",
    "                    return None\n",
    "        # if there is a space between value and 'mm'\n",
    "        elif coin[start-1] == ' ' and coin[start-2].isnumeric():\n",
    "            if coin[start-3].isnumeric():\n",
    "                # if value contains a decimal\n",
    "                if coin[start-4] == '.':\n",
    "                    if coin[start-6:start-4].isnumeric():\n",
    "                        return float(coin[start-6:start-1])\n",
    "                    else:\n",
    "                        return None\n",
    "                else:\n",
    "                    return float(coin[start-3:start-1])\n",
    "            elif coin[start-3] == '.':\n",
    "                if coin[start-5:start-3].isnumeric():\n",
    "                    return float(coin[start-5:start-1])\n",
    "                else:\n",
    "                    return None\n"
   ]
  },
  {
   "attachments": {},
   "cell_type": "markdown",
   "metadata": {},
   "source": [
    "### Check for common inscriptions\n",
    "...such as \"AVG\" (Augustus, title of the emperor), \"IMP\" (Imperator (victorious general), received upon accession), \"CAES\" (Caesar, inherited name of the Julian family (Julius Caesar), used by later emperors to designate heir), \"GERM\" (Germanicus, a title honoring military victories in Germany), \"COS\" or \"CONSVL\" (Consul, a title linked to highest office in Senate, usually held by emperor), \"PO\" (Pontifex Maximus, highest priest, the head of state religion), \"PP\" (Pater Patriae, father of the country), \"PF\" (Pius Felix, reverent or dutiful), \"SC\" (Senatus Consultus), \"TPP\" (Tribunica Potestate, tribune of the people, each renewal indicated by numerals), \"CENS\" (Censor, a public office overseeing taxes, morality, the census and membership in various orders), \"BRIT\" (Britannicus)."
   ]
  },
  {
   "cell_type": "code",
   "execution_count": 23,
   "metadata": {},
   "outputs": [],
   "source": [
    "def coin_inscriptions(coin):\n",
    "    coin = str(coin)\n",
    "    inscriptions_list = ['AVG', 'IMP', 'CAES', 'GERM', 'COS', 'CONSVL', 'PP', 'PO', 'PF', \\\n",
    "                         'SC', 'CENS', 'TPP', 'TR', 'RESTITVT', 'BRIT', 'AVGVSTVS', 'CAESAR', \n",
    "                         'C', 'TRIB POT', 'PON MAX', 'PM']\n",
    "    coin_inscriptions = []\n",
    "    for i in inscriptions_list:\n",
    "        if str(' ' + i + ' ') in coin:\n",
    "            coin_inscriptions.append(i)\n",
    "    if len(coin_inscriptions) > 0:\n",
    "        return coin_inscriptions\n",
    "    else:\n",
    "        return None\n",
    "\n",
    "def unique_inscriptions(inscriptions):\n",
    "    u_inscriptions = []\n",
    "    for i in inscriptions:\n",
    "        try:\n",
    "            for abb in i:\n",
    "                if abb not in u_inscriptions:\n",
    "                    u_inscriptions.append(abb)\n",
    "        except TypeError:\n",
    "            continue\n",
    "    return u_inscriptions"
   ]
  },
  {
   "attachments": {},
   "cell_type": "markdown",
   "metadata": {},
   "source": [
    "### Create coin_tests() for a basic summary of function success"
   ]
  },
  {
   "cell_type": "code",
   "execution_count": 24,
   "metadata": {},
   "outputs": [
    {
     "name": "stdout",
     "output_type": "stream",
     "text": [
      "Out of 2593 coins in 10 soups, there are:\n",
      "  6 missing metal values\n",
      "    5 unique metal values: ['Gold' 'Copper' 'Silver' 'Brass' None 'FAKE']\n",
      "  1045 missing year values\n",
      "    108 unique year values\n",
      "      Mean: 108.24612403100775, Median: 177.0, Min: -225.0, Max: 570.0\n",
      "  285 missing id values\n",
      "    2163 unique id values\n",
      "  1951 missing mass values\n",
      "    529 unique mass values\n",
      "      Mean: 11.673823987538942, Median: 8.67, Min: 0.655, Max: 71.7\n",
      "  2433 missing diameter values\n",
      "    46 unique diameter values\n",
      "      Mean: 23.6601875, Median: 22.0, Min: 14.0, Max: 38.7\n",
      "  1316 missing inscriptions values\n",
      "    18 unique inscriptions\n",
      "      ['AVG', 'IMP', 'TR', 'C', 'CAES', 'PF', 'PM', 'SC', 'PP', 'GERM', 'AVGVSTVS', 'CAESAR', 'COS', 'PO', 'PON MAX', 'TRIB POT', 'BRIT', 'RESTITVT']\n"
     ]
    }
   ],
   "source": [
    "def coin_tests(soups=test_soups):\n",
    "    test_coins = []\n",
    "    for s in soups:\n",
    "        for c in pull_coins(s):\n",
    "            test_coins.append(c)\n",
    "    print(f'Out of {len(test_coins)} coins in {len(soups)} soups, there are:')\n",
    "    metals = pd.Series([coin_metal(coin) for coin in test_coins])\n",
    "    print(f'  {metals.isna().sum()} missing metal values')\n",
    "    print(f'    {metals.nunique()} unique metal values: {metals.unique()}')\n",
    "    years = pd.Series([coin_year(coin) for coin in test_coins])\n",
    "    print(f'  {years.isna().sum()} missing year values')\n",
    "    print(f'    {years.nunique()} unique year values')\n",
    "    print(f'      Mean: {years.mean()}, Median: {years.median()}, Min: {years.min()}, Max: {years.max()}')\n",
    "    ids = pd.Series([coin_id(coin) for coin in test_coins])\n",
    "    print(f'  {ids.isna().sum()} missing id values')\n",
    "    print(f'    {ids.nunique()} unique id values')\n",
    "    mass = pd.Series([coin_mass(coin) for coin in test_coins])\n",
    "    print(f'  {mass.isna().sum()} missing mass values')\n",
    "    print(f'    {mass.nunique()} unique mass values')\n",
    "    print(f'      Mean: {mass.mean()}, Median: {mass.median()}, Min: {mass.min()}, Max: {mass.max()}')\n",
    "    diameter = pd.Series([coin_diameter(coin) for coin in test_coins])\n",
    "    print(f'  {diameter.isna().sum()} missing diameter values')\n",
    "    print(f'    {diameter.nunique()} unique diameter values')\n",
    "    print(f'      Mean: {diameter.mean()}, Median: {diameter.median()}, Min: {diameter.min()}, Max: {diameter.max()}')\n",
    "    inscriptions = [coin_inscriptions(c) for c in test_coins]\n",
    "    print(f'  {pd.Series(inscriptions).isna().sum()} missing inscriptions values')\n",
    "    print(f'    {len(unique_inscriptions(inscriptions))} unique inscriptions')\n",
    "    print(f'      {unique_inscriptions(inscriptions)}')\n",
    "\n",
    "coin_tests()"
   ]
  },
  {
   "attachments": {},
   "cell_type": "markdown",
   "metadata": {},
   "source": [
    "## Combine individual coin parsing functions into one that returns a Dataframe\n",
    "i.e. coin_df(soup)"
   ]
  },
  {
   "cell_type": "code",
   "execution_count": 25,
   "metadata": {},
   "outputs": [],
   "source": [
    "def coin_df(soup):\n",
    "    title = pull_title(soup)\n",
    "    id, metal, mass, diameter, era, year, inscriptions, jpg, txt = [], [], [], [], [], [], [], [], []\n",
    "    for coin in pull_coins(soup):\n",
    "        id.append(coin_id(coin))\n",
    "        metal.append(coin_metal(coin))\n",
    "        mass.append(coin_mass(coin))\n",
    "        diameter.append(coin_diameter(coin))\n",
    "        era.append(coin_era(coin))\n",
    "        year.append(coin_year(coin))\n",
    "        inscriptions.append(coin_inscriptions(coin))\n",
    "        jpg.append(coin_jpg(coin))\n",
    "        txt.append(coin_txt(coin))\n",
    "    return pd.DataFrame({'title':title, 'id':id, 'metal':metal, 'mass':mass, 'diameter':diameter, \\\n",
    "                         'era':era, 'year':year, 'inscriptions':inscriptions, 'jpg':jpg, 'txt':txt})"
   ]
  },
  {
   "cell_type": "code",
   "execution_count": 26,
   "metadata": {},
   "outputs": [
    {
     "data": {
      "text/html": [
       "<div>\n",
       "<style scoped>\n",
       "    .dataframe tbody tr th:only-of-type {\n",
       "        vertical-align: middle;\n",
       "    }\n",
       "\n",
       "    .dataframe tbody tr th {\n",
       "        vertical-align: top;\n",
       "    }\n",
       "\n",
       "    .dataframe thead th {\n",
       "        text-align: right;\n",
       "    }\n",
       "</style>\n",
       "<table border=\"1\" class=\"dataframe\">\n",
       "  <thead>\n",
       "    <tr style=\"text-align: right;\">\n",
       "      <th></th>\n",
       "      <th>title</th>\n",
       "      <th>id</th>\n",
       "      <th>metal</th>\n",
       "      <th>mass</th>\n",
       "      <th>diameter</th>\n",
       "      <th>era</th>\n",
       "      <th>year</th>\n",
       "      <th>inscriptions</th>\n",
       "      <th>jpg</th>\n",
       "      <th>txt</th>\n",
       "    </tr>\n",
       "  </thead>\n",
       "  <tbody>\n",
       "    <tr>\n",
       "      <th>0</th>\n",
       "      <td>Agrippina II</td>\n",
       "      <td>Cohen_01</td>\n",
       "      <td>Brass</td>\n",
       "      <td>NaN</td>\n",
       "      <td>NaN</td>\n",
       "      <td>AD</td>\n",
       "      <td>5.0</td>\n",
       "      <td>[AVG]</td>\n",
       "      <td>Cohen_01.jpg</td>\n",
       "      <td>Cohen_01.txt</td>\n",
       "    </tr>\n",
       "    <tr>\n",
       "      <th>1</th>\n",
       "      <td>Agrippina II</td>\n",
       "      <td>Cohen_01_countermarked</td>\n",
       "      <td>Brass</td>\n",
       "      <td>14.78</td>\n",
       "      <td>28.0</td>\n",
       "      <td>None</td>\n",
       "      <td>NaN</td>\n",
       "      <td>[AVG]</td>\n",
       "      <td>Cohen_01_countermarked.jpg</td>\n",
       "      <td>Cohen_01_countermarked.txt</td>\n",
       "    </tr>\n",
       "    <tr>\n",
       "      <th>2</th>\n",
       "      <td>Agrippina II</td>\n",
       "      <td>RIC_0075</td>\n",
       "      <td>Silver</td>\n",
       "      <td>NaN</td>\n",
       "      <td>NaN</td>\n",
       "      <td>AD</td>\n",
       "      <td>54.0</td>\n",
       "      <td>[CAES, GERM]</td>\n",
       "      <td>RIC_0075.jpg</td>\n",
       "      <td>RIC_0075.txt</td>\n",
       "    </tr>\n",
       "    <tr>\n",
       "      <th>3</th>\n",
       "      <td>Agrippina II</td>\n",
       "      <td>None</td>\n",
       "      <td>Brass</td>\n",
       "      <td>NaN</td>\n",
       "      <td>NaN</td>\n",
       "      <td>None</td>\n",
       "      <td>NaN</td>\n",
       "      <td>[AVG]</td>\n",
       "      <td>None</td>\n",
       "      <td>None</td>\n",
       "    </tr>\n",
       "    <tr>\n",
       "      <th>4</th>\n",
       "      <td>Agrippina II</td>\n",
       "      <td>RIC_0103note</td>\n",
       "      <td>Brass</td>\n",
       "      <td>NaN</td>\n",
       "      <td>NaN</td>\n",
       "      <td>AD</td>\n",
       "      <td>54.0</td>\n",
       "      <td>[AVG]</td>\n",
       "      <td>RIC_0103note.jpg</td>\n",
       "      <td>RIC_0103note.txt</td>\n",
       "    </tr>\n",
       "  </tbody>\n",
       "</table>\n",
       "</div>"
      ],
      "text/plain": [
       "          title                      id   metal   mass  diameter   era  year  \\\n",
       "0  Agrippina II                Cohen_01   Brass    NaN       NaN    AD   5.0   \n",
       "1  Agrippina II  Cohen_01_countermarked   Brass  14.78      28.0  None   NaN   \n",
       "2  Agrippina II                RIC_0075  Silver    NaN       NaN    AD  54.0   \n",
       "3  Agrippina II                    None   Brass    NaN       NaN  None   NaN   \n",
       "4  Agrippina II            RIC_0103note   Brass    NaN       NaN    AD  54.0   \n",
       "\n",
       "   inscriptions                         jpg                         txt  \n",
       "0         [AVG]                Cohen_01.jpg                Cohen_01.txt  \n",
       "1         [AVG]  Cohen_01_countermarked.jpg  Cohen_01_countermarked.txt  \n",
       "2  [CAES, GERM]                RIC_0075.jpg                RIC_0075.txt  \n",
       "3         [AVG]                        None                        None  \n",
       "4         [AVG]            RIC_0103note.jpg            RIC_0103note.txt  "
      ]
     },
     "execution_count": 26,
     "metadata": {},
     "output_type": "execute_result"
    }
   ],
   "source": [
    "coin_df(test_soups[2]).head()"
   ]
  },
  {
   "attachments": {},
   "cell_type": "markdown",
   "metadata": {},
   "source": [
    "## Create a function to combine multiple Dataframes"
   ]
  },
  {
   "cell_type": "code",
   "execution_count": 27,
   "metadata": {},
   "outputs": [],
   "source": [
    "def combine_coin_dfs(soups):\n",
    "    dfs = [coin_df(soup) for soup in soups]\n",
    "    return pd.concat(dfs, ignore_index=True) "
   ]
  },
  {
   "cell_type": "code",
   "execution_count": 28,
   "metadata": {},
   "outputs": [
    {
     "data": {
      "text/plain": [
       "2593"
      ]
     },
     "execution_count": 28,
     "metadata": {},
     "output_type": "execute_result"
    }
   ],
   "source": [
    "len(combine_coin_dfs(test_soups))"
   ]
  },
  {
   "attachments": {},
   "cell_type": "markdown",
   "metadata": {},
   "source": [
    "# Switch to working with full data"
   ]
  },
  {
   "attachments": {},
   "cell_type": "markdown",
   "metadata": {},
   "source": [
    "## Pull html from all source pages\n",
    "(pulling from over 200 pages, which can take a few minutes)"
   ]
  },
  {
   "cell_type": "code",
   "execution_count": 29,
   "metadata": {},
   "outputs": [],
   "source": [
    "pages_raw = [requests.get(linkroots[i] + 'i.html') for i in range(len(linkroots))]"
   ]
  },
  {
   "cell_type": "code",
   "execution_count": 30,
   "metadata": {},
   "outputs": [],
   "source": [
    "all_soups = [BeautifulSoup(pages_raw[i].content, 'lxml') for i in range(len(pages_raw))]"
   ]
  },
  {
   "attachments": {},
   "cell_type": "markdown",
   "metadata": {},
   "source": [
    "#### Run tests"
   ]
  },
  {
   "cell_type": "code",
   "execution_count": 31,
   "metadata": {},
   "outputs": [
    {
     "name": "stdout",
     "output_type": "stream",
     "text": [
      "Out of 231 soups, 0 have missing titles.\n",
      "Out of 231 soups, 79 have missing subtitles.\n",
      "Out of 40863 coins in 231 soups, there are:\n",
      "  820 missing metal values\n",
      "    5 unique metal values: ['Gold' 'Copper' 'Silver' 'Brass' None 'FAKE']\n",
      "  16423 missing year values\n",
      "    504 unique year values\n",
      "      Mean: 203.95040916530277, Median: 217.0, Min: -853.0, Max: 956.0\n",
      "  2385 missing id values\n",
      "    33403 unique id values\n",
      "  31714 missing mass values\n",
      "    2476 unique mass values\n",
      "      Mean: 9.99691474478085, Median: 7.5, Min: 0.32, Max: 516.0\n",
      "  35481 missing diameter values\n",
      "    478 unique diameter values\n",
      "      Mean: 23.528050910442214, Median: 23.0, Min: 0.0, Max: 98.0\n",
      "  23125 missing inscriptions values\n",
      "    20 unique inscriptions\n",
      "      ['AVG', 'COS', 'TR', 'CAESAR', 'TRIB POT', 'C', 'IMP', 'CAES', 'PF', 'PM', 'SC', 'PP', 'GERM', 'AVGVSTVS', 'PO', 'PON MAX', 'RESTITVT', 'BRIT', 'CONSVL', 'CENS']\n"
     ]
    }
   ],
   "source": [
    "pull_title_test(all_soups)\n",
    "pull_subtitle_test(all_soups)\n",
    "coin_tests(all_soups)"
   ]
  },
  {
   "attachments": {},
   "cell_type": "markdown",
   "metadata": {},
   "source": [
    "## Combine it all into a single Dataframe"
   ]
  },
  {
   "cell_type": "code",
   "execution_count": 32,
   "metadata": {},
   "outputs": [],
   "source": [
    "roman_coins_raw = combine_coin_dfs(all_soups)"
   ]
  },
  {
   "attachments": {},
   "cell_type": "markdown",
   "metadata": {},
   "source": [
    "### Check data quality"
   ]
  },
  {
   "cell_type": "code",
   "execution_count": 33,
   "metadata": {},
   "outputs": [
    {
     "data": {
      "text/html": [
       "<div>\n",
       "<style scoped>\n",
       "    .dataframe tbody tr th:only-of-type {\n",
       "        vertical-align: middle;\n",
       "    }\n",
       "\n",
       "    .dataframe tbody tr th {\n",
       "        vertical-align: top;\n",
       "    }\n",
       "\n",
       "    .dataframe thead th {\n",
       "        text-align: right;\n",
       "    }\n",
       "</style>\n",
       "<table border=\"1\" class=\"dataframe\">\n",
       "  <thead>\n",
       "    <tr style=\"text-align: right;\">\n",
       "      <th></th>\n",
       "      <th>title</th>\n",
       "      <th>id</th>\n",
       "      <th>metal</th>\n",
       "      <th>mass</th>\n",
       "      <th>diameter</th>\n",
       "      <th>era</th>\n",
       "      <th>year</th>\n",
       "      <th>inscriptions</th>\n",
       "      <th>jpg</th>\n",
       "      <th>txt</th>\n",
       "    </tr>\n",
       "  </thead>\n",
       "  <tbody>\n",
       "    <tr>\n",
       "      <th>0</th>\n",
       "      <td>Aelia Ariadne</td>\n",
       "      <td>RIC_0933a</td>\n",
       "      <td>Gold</td>\n",
       "      <td>1.46</td>\n",
       "      <td>14.0</td>\n",
       "      <td>AD</td>\n",
       "      <td>491</td>\n",
       "      <td>None</td>\n",
       "      <td>RIC_0933a.jpg</td>\n",
       "      <td>RIC_0933a.txt</td>\n",
       "    </tr>\n",
       "    <tr>\n",
       "      <th>1</th>\n",
       "      <td>Aelia Ariadne</td>\n",
       "      <td>RIC_933v</td>\n",
       "      <td>Gold</td>\n",
       "      <td>1.47</td>\n",
       "      <td>15.0</td>\n",
       "      <td>AD</td>\n",
       "      <td>491</td>\n",
       "      <td>None</td>\n",
       "      <td>RIC_933v.jpg</td>\n",
       "      <td>RIC_933v.txt</td>\n",
       "    </tr>\n",
       "    <tr>\n",
       "      <th>2</th>\n",
       "      <td>Aelia Ariadne</td>\n",
       "      <td>RIC_0933var2</td>\n",
       "      <td>Gold</td>\n",
       "      <td>4.47</td>\n",
       "      <td>NaN</td>\n",
       "      <td>AD</td>\n",
       "      <td>474</td>\n",
       "      <td>None</td>\n",
       "      <td>RIC_0933var2.jpg</td>\n",
       "      <td>RIC_0933var2.txt</td>\n",
       "    </tr>\n",
       "    <tr>\n",
       "      <th>3</th>\n",
       "      <td>Aelia Ariadne</td>\n",
       "      <td>RIC_0938</td>\n",
       "      <td>Gold</td>\n",
       "      <td>1.47</td>\n",
       "      <td>NaN</td>\n",
       "      <td>AD</td>\n",
       "      <td>474</td>\n",
       "      <td>None</td>\n",
       "      <td>RIC_0938.jpg</td>\n",
       "      <td>RIC_0938.txt</td>\n",
       "    </tr>\n",
       "    <tr>\n",
       "      <th>4</th>\n",
       "      <td>Aelia Flaccilla</td>\n",
       "      <td>_alexandria_RIC_017</td>\n",
       "      <td>Copper</td>\n",
       "      <td>NaN</td>\n",
       "      <td>NaN</td>\n",
       "      <td>None</td>\n",
       "      <td>NaN</td>\n",
       "      <td>None</td>\n",
       "      <td>_alexandria_RIC_017.jpg</td>\n",
       "      <td>_alexandria_RIC_017.txt</td>\n",
       "    </tr>\n",
       "    <tr>\n",
       "      <th>5</th>\n",
       "      <td>Aelia Flaccilla</td>\n",
       "      <td>_antioch_RIC_054</td>\n",
       "      <td>Copper</td>\n",
       "      <td>NaN</td>\n",
       "      <td>NaN</td>\n",
       "      <td>None</td>\n",
       "      <td>NaN</td>\n",
       "      <td>None</td>\n",
       "      <td>_antioch_RIC_054.jpg</td>\n",
       "      <td>_antioch_RIC_054.txt</td>\n",
       "    </tr>\n",
       "    <tr>\n",
       "      <th>6</th>\n",
       "      <td>Aelia Flaccilla</td>\n",
       "      <td>_antioch_RIC_061</td>\n",
       "      <td>Copper</td>\n",
       "      <td>NaN</td>\n",
       "      <td>NaN</td>\n",
       "      <td>None</td>\n",
       "      <td>NaN</td>\n",
       "      <td>None</td>\n",
       "      <td>_antioch_RIC_061.jpg</td>\n",
       "      <td>_antioch_RIC_061.txt</td>\n",
       "    </tr>\n",
       "    <tr>\n",
       "      <th>7</th>\n",
       "      <td>Aelia Flaccilla</td>\n",
       "      <td>_antioch_RIC_061_G</td>\n",
       "      <td>Copper</td>\n",
       "      <td>NaN</td>\n",
       "      <td>NaN</td>\n",
       "      <td>None</td>\n",
       "      <td>NaN</td>\n",
       "      <td>None</td>\n",
       "      <td>_antioch_RIC_061_G.jpg</td>\n",
       "      <td>_antioch_RIC_061_G.txt</td>\n",
       "    </tr>\n",
       "    <tr>\n",
       "      <th>8</th>\n",
       "      <td>Aelia Flaccilla</td>\n",
       "      <td>_antioch_RIC_062,D</td>\n",
       "      <td>Copper</td>\n",
       "      <td>NaN</td>\n",
       "      <td>NaN</td>\n",
       "      <td>None</td>\n",
       "      <td>NaN</td>\n",
       "      <td>None</td>\n",
       "      <td>_antioch_RIC_062,D.jpg</td>\n",
       "      <td>_antioch_RIC_062,D.txt</td>\n",
       "    </tr>\n",
       "    <tr>\n",
       "      <th>9</th>\n",
       "      <td>Aelia Flaccilla</td>\n",
       "      <td>_antioch_RIC_062</td>\n",
       "      <td>Copper</td>\n",
       "      <td>NaN</td>\n",
       "      <td>22.0</td>\n",
       "      <td>None</td>\n",
       "      <td>NaN</td>\n",
       "      <td>None</td>\n",
       "      <td>_antioch_RIC_062.jpg</td>\n",
       "      <td>_antioch_RIC_062.txt</td>\n",
       "    </tr>\n",
       "  </tbody>\n",
       "</table>\n",
       "</div>"
      ],
      "text/plain": [
       "             title                   id   metal  mass diameter   era year  \\\n",
       "0    Aelia Ariadne            RIC_0933a    Gold  1.46     14.0    AD  491   \n",
       "1    Aelia Ariadne             RIC_933v    Gold  1.47     15.0    AD  491   \n",
       "2    Aelia Ariadne         RIC_0933var2    Gold  4.47      NaN    AD  474   \n",
       "3    Aelia Ariadne             RIC_0938    Gold  1.47      NaN    AD  474   \n",
       "4  Aelia Flaccilla  _alexandria_RIC_017  Copper   NaN      NaN  None  NaN   \n",
       "5  Aelia Flaccilla     _antioch_RIC_054  Copper   NaN      NaN  None  NaN   \n",
       "6  Aelia Flaccilla     _antioch_RIC_061  Copper   NaN      NaN  None  NaN   \n",
       "7  Aelia Flaccilla   _antioch_RIC_061_G  Copper   NaN      NaN  None  NaN   \n",
       "8  Aelia Flaccilla   _antioch_RIC_062,D  Copper   NaN      NaN  None  NaN   \n",
       "9  Aelia Flaccilla     _antioch_RIC_062  Copper   NaN     22.0  None  NaN   \n",
       "\n",
       "  inscriptions                      jpg                      txt  \n",
       "0         None            RIC_0933a.jpg            RIC_0933a.txt  \n",
       "1         None             RIC_933v.jpg             RIC_933v.txt  \n",
       "2         None         RIC_0933var2.jpg         RIC_0933var2.txt  \n",
       "3         None             RIC_0938.jpg             RIC_0938.txt  \n",
       "4         None  _alexandria_RIC_017.jpg  _alexandria_RIC_017.txt  \n",
       "5         None     _antioch_RIC_054.jpg     _antioch_RIC_054.txt  \n",
       "6         None     _antioch_RIC_061.jpg     _antioch_RIC_061.txt  \n",
       "7         None   _antioch_RIC_061_G.jpg   _antioch_RIC_061_G.txt  \n",
       "8         None   _antioch_RIC_062,D.jpg   _antioch_RIC_062,D.txt  \n",
       "9         None     _antioch_RIC_062.jpg     _antioch_RIC_062.txt  "
      ]
     },
     "execution_count": 33,
     "metadata": {},
     "output_type": "execute_result"
    }
   ],
   "source": [
    "roman_coins_raw.head(10)"
   ]
  },
  {
   "cell_type": "code",
   "execution_count": 34,
   "metadata": {},
   "outputs": [
    {
     "name": "stdout",
     "output_type": "stream",
     "text": [
      "<class 'pandas.core.frame.DataFrame'>\n",
      "RangeIndex: 40863 entries, 0 to 40862\n",
      "Data columns (total 10 columns):\n",
      " #   Column        Non-Null Count  Dtype \n",
      "---  ------        --------------  ----- \n",
      " 0   title         40863 non-null  object\n",
      " 1   id            38478 non-null  object\n",
      " 2   metal         40043 non-null  object\n",
      " 3   mass          9149 non-null   object\n",
      " 4   diameter      5382 non-null   object\n",
      " 5   era           24440 non-null  object\n",
      " 6   year          24440 non-null  object\n",
      " 7   inscriptions  17738 non-null  object\n",
      " 8   jpg           38476 non-null  object\n",
      " 9   txt           38477 non-null  object\n",
      "dtypes: object(10)\n",
      "memory usage: 3.1+ MB\n"
     ]
    }
   ],
   "source": [
    "roman_coins_raw.info()"
   ]
  },
  {
   "cell_type": "code",
   "execution_count": 35,
   "metadata": {},
   "outputs": [
    {
     "data": {
      "text/html": [
       "<div>\n",
       "<style scoped>\n",
       "    .dataframe tbody tr th:only-of-type {\n",
       "        vertical-align: middle;\n",
       "    }\n",
       "\n",
       "    .dataframe tbody tr th {\n",
       "        vertical-align: top;\n",
       "    }\n",
       "\n",
       "    .dataframe thead th {\n",
       "        text-align: right;\n",
       "    }\n",
       "</style>\n",
       "<table border=\"1\" class=\"dataframe\">\n",
       "  <thead>\n",
       "    <tr style=\"text-align: right;\">\n",
       "      <th></th>\n",
       "      <th>title</th>\n",
       "      <th>id</th>\n",
       "      <th>metal</th>\n",
       "      <th>mass</th>\n",
       "      <th>diameter</th>\n",
       "      <th>era</th>\n",
       "      <th>year</th>\n",
       "      <th>inscriptions</th>\n",
       "      <th>jpg</th>\n",
       "      <th>txt</th>\n",
       "    </tr>\n",
       "  </thead>\n",
       "  <tbody>\n",
       "    <tr>\n",
       "      <th>count</th>\n",
       "      <td>40863</td>\n",
       "      <td>38478</td>\n",
       "      <td>40043</td>\n",
       "      <td>9149.0</td>\n",
       "      <td>5382.0</td>\n",
       "      <td>24440</td>\n",
       "      <td>24440.0</td>\n",
       "      <td>17738</td>\n",
       "      <td>38476</td>\n",
       "      <td>38477</td>\n",
       "    </tr>\n",
       "    <tr>\n",
       "      <th>unique</th>\n",
       "      <td>225</td>\n",
       "      <td>33403</td>\n",
       "      <td>5</td>\n",
       "      <td>2476.0</td>\n",
       "      <td>478.0</td>\n",
       "      <td>2</td>\n",
       "      <td>504.0</td>\n",
       "      <td>441</td>\n",
       "      <td>33302</td>\n",
       "      <td>33299</td>\n",
       "    </tr>\n",
       "    <tr>\n",
       "      <th>top</th>\n",
       "      <td>Caracalla</td>\n",
       "      <td>RIC_0025</td>\n",
       "      <td>Copper</td>\n",
       "      <td>2.9</td>\n",
       "      <td>18.0</td>\n",
       "      <td>AD</td>\n",
       "      <td>193.0</td>\n",
       "      <td>[PF]</td>\n",
       "      <td>RIC_0013.jpg</td>\n",
       "      <td>RIC_0013.txt</td>\n",
       "    </tr>\n",
       "    <tr>\n",
       "      <th>freq</th>\n",
       "      <td>2417</td>\n",
       "      <td>23</td>\n",
       "      <td>28907</td>\n",
       "      <td>39.0</td>\n",
       "      <td>360.0</td>\n",
       "      <td>23904</td>\n",
       "      <td>1035.0</td>\n",
       "      <td>2205</td>\n",
       "      <td>24</td>\n",
       "      <td>24</td>\n",
       "    </tr>\n",
       "  </tbody>\n",
       "</table>\n",
       "</div>"
      ],
      "text/plain": [
       "            title        id   metal    mass  diameter    era     year  \\\n",
       "count       40863     38478   40043  9149.0    5382.0  24440  24440.0   \n",
       "unique        225     33403       5  2476.0     478.0      2    504.0   \n",
       "top     Caracalla  RIC_0025  Copper     2.9      18.0     AD    193.0   \n",
       "freq         2417        23   28907    39.0     360.0  23904   1035.0   \n",
       "\n",
       "       inscriptions           jpg           txt  \n",
       "count         17738         38476         38477  \n",
       "unique          441         33302         33299  \n",
       "top            [PF]  RIC_0013.jpg  RIC_0013.txt  \n",
       "freq           2205            24            24  "
      ]
     },
     "execution_count": 35,
     "metadata": {},
     "output_type": "execute_result"
    }
   ],
   "source": [
    "roman_coins_raw.describe()"
   ]
  },
  {
   "cell_type": "code",
   "execution_count": 36,
   "metadata": {},
   "outputs": [],
   "source": [
    "roman_coins_raw.drop_duplicates(subset=['id'], keep='first', inplace=True)"
   ]
  },
  {
   "cell_type": "code",
   "execution_count": 37,
   "metadata": {},
   "outputs": [],
   "source": [
    "roman_coins = roman_coins_raw.copy()\n",
    "roman_coins['metal'].fillna('None')\n",
    "roman_coins['era'].fillna('None')\n",
    "metal_categories = ['None', 'FAKE', 'Brass', 'Copper', 'Silver', 'Gold']\n",
    "era_categories = ['None', 'BC', 'AD']\n",
    "roman_coins['metal'] = pd.Categorical(roman_coins['metal'], categories=metal_categories, ordered=True)\n",
    "roman_coins['era'] = pd.Categorical(roman_coins['era'], categories=era_categories, ordered=True)\n",
    "roman_coins['mass'] = roman_coins['mass'].astype('float64')\n",
    "roman_coins['diameter'] = roman_coins['diameter'].astype('float64')\n",
    "roman_coins['year'] = roman_coins['year'].astype('float64')"
   ]
  },
  {
   "cell_type": "code",
   "execution_count": 38,
   "metadata": {},
   "outputs": [
    {
     "name": "stdout",
     "output_type": "stream",
     "text": [
      "<class 'pandas.core.frame.DataFrame'>\n",
      "Int64Index: 33404 entries, 0 to 40862\n",
      "Data columns (total 10 columns):\n",
      " #   Column        Non-Null Count  Dtype   \n",
      "---  ------        --------------  -----   \n",
      " 0   title         33404 non-null  object  \n",
      " 1   id            33403 non-null  object  \n",
      " 2   metal         32765 non-null  category\n",
      " 3   mass          8282 non-null   float64 \n",
      " 4   diameter      4651 non-null   float64 \n",
      " 5   era           19763 non-null  category\n",
      " 6   year          19763 non-null  float64 \n",
      " 7   inscriptions  11685 non-null  object  \n",
      " 8   jpg           33402 non-null  object  \n",
      " 9   txt           33402 non-null  object  \n",
      "dtypes: category(2), float64(3), object(5)\n",
      "memory usage: 2.4+ MB\n"
     ]
    }
   ],
   "source": [
    "roman_coins.info()"
   ]
  },
  {
   "cell_type": "code",
   "execution_count": 39,
   "metadata": {},
   "outputs": [
    {
     "data": {
      "text/html": [
       "<div>\n",
       "<style scoped>\n",
       "    .dataframe tbody tr th:only-of-type {\n",
       "        vertical-align: middle;\n",
       "    }\n",
       "\n",
       "    .dataframe tbody tr th {\n",
       "        vertical-align: top;\n",
       "    }\n",
       "\n",
       "    .dataframe thead th {\n",
       "        text-align: right;\n",
       "    }\n",
       "</style>\n",
       "<table border=\"1\" class=\"dataframe\">\n",
       "  <thead>\n",
       "    <tr style=\"text-align: right;\">\n",
       "      <th></th>\n",
       "      <th>mass</th>\n",
       "      <th>diameter</th>\n",
       "      <th>year</th>\n",
       "    </tr>\n",
       "  </thead>\n",
       "  <tbody>\n",
       "    <tr>\n",
       "      <th>count</th>\n",
       "      <td>8282.000000</td>\n",
       "      <td>4651.000000</td>\n",
       "      <td>19763.000000</td>\n",
       "    </tr>\n",
       "    <tr>\n",
       "      <th>mean</th>\n",
       "      <td>10.096173</td>\n",
       "      <td>23.588293</td>\n",
       "      <td>214.178364</td>\n",
       "    </tr>\n",
       "    <tr>\n",
       "      <th>std</th>\n",
       "      <td>10.443645</td>\n",
       "      <td>6.141140</td>\n",
       "      <td>111.763026</td>\n",
       "    </tr>\n",
       "    <tr>\n",
       "      <th>min</th>\n",
       "      <td>0.320000</td>\n",
       "      <td>0.000000</td>\n",
       "      <td>-853.000000</td>\n",
       "    </tr>\n",
       "    <tr>\n",
       "      <th>25%</th>\n",
       "      <td>4.100000</td>\n",
       "      <td>19.000000</td>\n",
       "      <td>161.000000</td>\n",
       "    </tr>\n",
       "    <tr>\n",
       "      <th>50%</th>\n",
       "      <td>7.680000</td>\n",
       "      <td>23.000000</td>\n",
       "      <td>222.000000</td>\n",
       "    </tr>\n",
       "    <tr>\n",
       "      <th>75%</th>\n",
       "      <td>13.077500</td>\n",
       "      <td>27.000000</td>\n",
       "      <td>305.000000</td>\n",
       "    </tr>\n",
       "    <tr>\n",
       "      <th>max</th>\n",
       "      <td>516.000000</td>\n",
       "      <td>98.000000</td>\n",
       "      <td>956.000000</td>\n",
       "    </tr>\n",
       "  </tbody>\n",
       "</table>\n",
       "</div>"
      ],
      "text/plain": [
       "              mass     diameter          year\n",
       "count  8282.000000  4651.000000  19763.000000\n",
       "mean     10.096173    23.588293    214.178364\n",
       "std      10.443645     6.141140    111.763026\n",
       "min       0.320000     0.000000   -853.000000\n",
       "25%       4.100000    19.000000    161.000000\n",
       "50%       7.680000    23.000000    222.000000\n",
       "75%      13.077500    27.000000    305.000000\n",
       "max     516.000000    98.000000    956.000000"
      ]
     },
     "execution_count": 39,
     "metadata": {},
     "output_type": "execute_result"
    }
   ],
   "source": [
    "roman_coins.describe()"
   ]
  },
  {
   "attachments": {},
   "cell_type": "markdown",
   "metadata": {},
   "source": [
    "#### Create a filtered dataset for coins with 'year' values"
   ]
  },
  {
   "cell_type": "code",
   "execution_count": 40,
   "metadata": {},
   "outputs": [
    {
     "data": {
      "text/html": [
       "<div>\n",
       "<style scoped>\n",
       "    .dataframe tbody tr th:only-of-type {\n",
       "        vertical-align: middle;\n",
       "    }\n",
       "\n",
       "    .dataframe tbody tr th {\n",
       "        vertical-align: top;\n",
       "    }\n",
       "\n",
       "    .dataframe thead th {\n",
       "        text-align: right;\n",
       "    }\n",
       "</style>\n",
       "<table border=\"1\" class=\"dataframe\">\n",
       "  <thead>\n",
       "    <tr style=\"text-align: right;\">\n",
       "      <th></th>\n",
       "      <th>title</th>\n",
       "      <th>id</th>\n",
       "      <th>metal</th>\n",
       "      <th>mass</th>\n",
       "      <th>diameter</th>\n",
       "      <th>era</th>\n",
       "      <th>year</th>\n",
       "      <th>inscriptions</th>\n",
       "      <th>jpg</th>\n",
       "      <th>txt</th>\n",
       "    </tr>\n",
       "  </thead>\n",
       "  <tbody>\n",
       "    <tr>\n",
       "      <th>29160</th>\n",
       "      <td>Octavia</td>\n",
       "      <td>RPC_2574</td>\n",
       "      <td>Copper</td>\n",
       "      <td>0.93</td>\n",
       "      <td>NaN</td>\n",
       "      <td>BC</td>\n",
       "      <td>-43.0</td>\n",
       "      <td>None</td>\n",
       "      <td>RPC_2574.jpg</td>\n",
       "      <td>RPC_2574.txt</td>\n",
       "    </tr>\n",
       "    <tr>\n",
       "      <th>2546</th>\n",
       "      <td>Augustus</td>\n",
       "      <td>RPC_0518</td>\n",
       "      <td>Copper</td>\n",
       "      <td>NaN</td>\n",
       "      <td>NaN</td>\n",
       "      <td>BC</td>\n",
       "      <td>-40.0</td>\n",
       "      <td>None</td>\n",
       "      <td>RPC_0518.jpg</td>\n",
       "      <td>RPC_0518.txt</td>\n",
       "    </tr>\n",
       "    <tr>\n",
       "      <th>2547</th>\n",
       "      <td>Augustus</td>\n",
       "      <td>RPC_0620</td>\n",
       "      <td>Brass</td>\n",
       "      <td>18.92</td>\n",
       "      <td>30.0</td>\n",
       "      <td>BC</td>\n",
       "      <td>-38.0</td>\n",
       "      <td>[CAESAR]</td>\n",
       "      <td>RPC_0620.jpg</td>\n",
       "      <td>RPC_0620.txt</td>\n",
       "    </tr>\n",
       "    <tr>\n",
       "      <th>2548</th>\n",
       "      <td>Augustus</td>\n",
       "      <td>RPC_0621</td>\n",
       "      <td>Brass</td>\n",
       "      <td>15.78</td>\n",
       "      <td>30.0</td>\n",
       "      <td>BC</td>\n",
       "      <td>-38.0</td>\n",
       "      <td>None</td>\n",
       "      <td>RPC_0621.jpg</td>\n",
       "      <td>RPC_0621.txt</td>\n",
       "    </tr>\n",
       "    <tr>\n",
       "      <th>2856</th>\n",
       "      <td>Augustus</td>\n",
       "      <td>RPC_5421</td>\n",
       "      <td>Copper</td>\n",
       "      <td>NaN</td>\n",
       "      <td>18.0</td>\n",
       "      <td>BC</td>\n",
       "      <td>-38.0</td>\n",
       "      <td>None</td>\n",
       "      <td>RPC_5421.jpg</td>\n",
       "      <td>RPC_5421.txt</td>\n",
       "    </tr>\n",
       "  </tbody>\n",
       "</table>\n",
       "</div>"
      ],
      "text/plain": [
       "          title        id   metal   mass  diameter era  year inscriptions  \\\n",
       "29160   Octavia  RPC_2574  Copper   0.93       NaN  BC -43.0         None   \n",
       "2546   Augustus  RPC_0518  Copper    NaN       NaN  BC -40.0         None   \n",
       "2547   Augustus  RPC_0620   Brass  18.92      30.0  BC -38.0     [CAESAR]   \n",
       "2548   Augustus  RPC_0621   Brass  15.78      30.0  BC -38.0         None   \n",
       "2856   Augustus  RPC_5421  Copper    NaN      18.0  BC -38.0         None   \n",
       "\n",
       "                jpg           txt  \n",
       "29160  RPC_2574.jpg  RPC_2574.txt  \n",
       "2546   RPC_0518.jpg  RPC_0518.txt  \n",
       "2547   RPC_0620.jpg  RPC_0620.txt  \n",
       "2548   RPC_0621.jpg  RPC_0621.txt  \n",
       "2856   RPC_5421.jpg  RPC_5421.txt  "
      ]
     },
     "execution_count": 40,
     "metadata": {},
     "output_type": "execute_result"
    }
   ],
   "source": [
    "roman_coins_years = roman_coins.dropna(subset=['metal', 'year'])\n",
    "roman_coins_years = roman_coins_years[roman_coins_years['year']>float(-45.0)]\n",
    "roman_coins_years = roman_coins_years[roman_coins_years['year']<float(500)]\n",
    "roman_coins_years.sort_values(by='year').head()\n"
   ]
  },
  {
   "cell_type": "code",
   "execution_count": 43,
   "metadata": {},
   "outputs": [
    {
     "data": {
      "text/plain": [
       "Text(0.5, 1.0, 'Number of Coins by Year')"
      ]
     },
     "execution_count": 43,
     "metadata": {},
     "output_type": "execute_result"
    },
    {
     "data": {
      "image/png": "[encoded data removed]",
      "text/plain": [
       "<Figure size 1152x432 with 1 Axes>"
      ]
     },
     "metadata": {},
     "output_type": "display_data"
    }
   ],
   "source": [
    "sns.set_theme()\n",
    "fig, ax = plt.subplots(figsize=(16,6))\n",
    "sns.histplot(roman_coins_years, x='year', bins=200)\n",
    "ax.set_title('Number of Coins by Year', fontdict={'weight': 'bold', 'size': 'large'})"
   ]
  },
  {
   "cell_type": "code",
   "execution_count": 48,
   "metadata": {},
   "outputs": [
    {
     "data": {
      "text/plain": [
       "<AxesSubplot: xlabel='year'>"
      ]
     },
     "execution_count": 48,
     "metadata": {},
     "output_type": "execute_result"
    },
    {
     "data": {
      "image/png": "[encoded data removed]",
      "text/plain": [
       "<Figure size 576x288 with 1 Axes>"
      ]
     },
     "metadata": {},
     "output_type": "display_data"
    }
   ],
   "source": [
    "fig, ax = plt.subplots(figsize=(8, 4))\n",
    "sns.boxplot(roman_coins_years, x='year')"
   ]
  },
  {
   "attachments": {},
   "cell_type": "markdown",
   "metadata": {},
   "source": [
    "#### Create a filtered dataset for coins with 'mass' values"
   ]
  },
  {
   "cell_type": "code",
   "execution_count": 50,
   "metadata": {},
   "outputs": [
    {
     "data": {
      "text/plain": [
       "count    8174.000000\n",
       "mean       10.160855\n",
       "std        10.476033\n",
       "min         0.320000\n",
       "0.1%        0.612110\n",
       "1%          1.237300\n",
       "5%          2.200000\n",
       "25%         4.120000\n",
       "50%         7.765000\n",
       "75%        13.140000\n",
       "95%        25.563500\n",
       "99%        41.816200\n",
       "99.9%      65.708940\n",
       "max       516.000000\n",
       "Name: mass, dtype: float64"
      ]
     },
     "execution_count": 50,
     "metadata": {},
     "output_type": "execute_result"
    }
   ],
   "source": [
    "roman_coins_mass = roman_coins.dropna(subset=['metal', 'mass'])\n",
    "pd.to_numeric(roman_coins_mass['mass']).describe(percentiles=[.001, .01, .05, .25, .5, .75, .95, .99, .999])"
   ]
  },
  {
   "attachments": {},
   "cell_type": "markdown",
   "metadata": {},
   "source": [
    "Remove coins that fall outside the first and last tenths of a percentile"
   ]
  },
  {
   "cell_type": "code",
   "execution_count": 51,
   "metadata": {},
   "outputs": [
    {
     "data": {
      "text/plain": [
       "count    8157.000000\n",
       "mean       10.020395\n",
       "std         8.084833\n",
       "min         0.670000\n",
       "25%         4.130000\n",
       "50%         7.770000\n",
       "75%        13.120000\n",
       "max        65.920000\n",
       "Name: mass, dtype: float64"
      ]
     },
     "execution_count": 51,
     "metadata": {},
     "output_type": "execute_result"
    }
   ],
   "source": [
    "roman_coins_mass = roman_coins_mass.query('mass>.6 and mass<66')\n",
    "pd.to_numeric(roman_coins_mass['mass']).describe()"
   ]
  },
  {
   "cell_type": "code",
   "execution_count": 55,
   "metadata": {},
   "outputs": [
    {
     "data": {
      "image/png": "[encoded data removed]",
      "text/plain": [
       "<Figure size 1008x432 with 1 Axes>"
      ]
     },
     "metadata": {},
     "output_type": "display_data"
    }
   ],
   "source": [
    "plt.figure(figsize=(14, 6))\n",
    "plt.hist(x=roman_coins_mass['mass'], bins=66)\n",
    "plt.title('Coin Mass Distribution'); plt.xlabel('Mass in grams'); plt.ylabel('Number of coins')\n",
    "plt.show()"
   ]
  },
  {
   "cell_type": "code",
   "execution_count": 98,
   "metadata": {},
   "outputs": [
    {
     "name": "stdout",
     "output_type": "stream",
     "text": [
      "<class 'pandas.core.frame.DataFrame'>\n",
      "RangeIndex: 32761 entries, 0 to 32760\n",
      "Data columns (total 11 columns):\n",
      " #   Column        Non-Null Count  Dtype   \n",
      "---  ------        --------------  -----   \n",
      " 0   index         32761 non-null  int64   \n",
      " 1   title         32761 non-null  object  \n",
      " 2   id            32760 non-null  object  \n",
      " 3   metal         32761 non-null  category\n",
      " 4   mass          8173 non-null   float64 \n",
      " 5   diameter      4434 non-null   float64 \n",
      " 6   era           19323 non-null  category\n",
      " 7   year          19323 non-null  float64 \n",
      " 8   inscriptions  11521 non-null  object  \n",
      " 9   jpg           32759 non-null  object  \n",
      " 10  txt           32759 non-null  object  \n",
      "dtypes: category(2), float64(3), int64(1), object(5)\n",
      "memory usage: 2.3+ MB\n"
     ]
    }
   ],
   "source": [
    "roman_coins_metals = roman_coins_raw.copy()\n",
    "roman_coins_metals.dropna(subset='metal', inplace=True)\n",
    "roman_coins_metals = roman_coins_metals[roman_coins_metals['metal'] != 'FAKE'].reset_index()\n",
    "roman_coins_metals['era'].fillna('None')\n",
    "metal_categories = ['Brass', 'Copper', 'Silver', 'Gold']\n",
    "era_categories = ['None', 'BC', 'AD']\n",
    "roman_coins_metals['metal'] = pd.Categorical(roman_coins_metals['metal'], categories=metal_categories, ordered=True)\n",
    "roman_coins_metals['era'] = pd.Categorical(roman_coins_metals['era'], categories=era_categories, ordered=True)\n",
    "roman_coins_metals['mass'] = roman_coins_metals['mass'].astype('float64')\n",
    "roman_coins_metals['diameter'] = roman_coins_metals['diameter'].astype('float64')\n",
    "roman_coins_metals['year'] = roman_coins_metals['year'].astype('float64')\n",
    "roman_coins_metals.info()"
   ]
  },
  {
   "cell_type": "code",
   "execution_count": 92,
   "metadata": {},
   "outputs": [
    {
     "data": {
      "text/plain": [
       "<AxesSubplot: >"
      ]
     },
     "execution_count": 92,
     "metadata": {},
     "output_type": "execute_result"
    },
    {
     "data": {
      "image/png": "[encoded data removed]",
      "text/plain": [
       "<Figure size 432x288 with 1 Axes>"
      ]
     },
     "metadata": {},
     "output_type": "display_data"
    }
   ],
   "source": [
    "sns.boxplot(roman_coins_metals['mass'])"
   ]
  },
  {
   "cell_type": "code",
   "execution_count": 93,
   "metadata": {},
   "outputs": [
    {
     "name": "stdout",
     "output_type": "stream",
     "text": [
      "lower limit -9.34 upper limit: 26.599999999999998\n"
     ]
    }
   ],
   "source": [
    "mass_percentile_25 = roman_coins_metals['mass'].quantile(0.25)\n",
    "mass_percentile_75 = roman_coins_metals['mass'].quantile(0.75)\n",
    "mass_iqr = mass_percentile_75 - mass_percentile_25\n",
    "upper_limit = mass_percentile_75 + 1.5 * mass_iqr\n",
    "lower_limit = mass_percentile_25 - 1.5 * mass_iqr\n",
    "print('lower limit', lower_limit, 'upper limit:', upper_limit)"
   ]
  },
  {
   "attachments": {},
   "cell_type": "markdown",
   "metadata": {},
   "source": [
    "#### Since lower limit is negative, we can ignore the lower limit and simply set an upper limit"
   ]
  },
  {
   "cell_type": "code",
   "execution_count": 102,
   "metadata": {},
   "outputs": [
    {
     "name": "stdout",
     "output_type": "stream",
     "text": [
      "<class 'pandas.core.frame.DataFrame'>\n",
      "RangeIndex: 7848 entries, 0 to 7847\n",
      "Data columns (total 12 columns):\n",
      " #   Column        Non-Null Count  Dtype   \n",
      "---  ------        --------------  -----   \n",
      " 0   level_0       7848 non-null   int64   \n",
      " 1   index         7848 non-null   int64   \n",
      " 2   title         7848 non-null   object  \n",
      " 3   id            7848 non-null   object  \n",
      " 4   metal         7848 non-null   category\n",
      " 5   mass          7848 non-null   float64 \n",
      " 6   diameter      1780 non-null   float64 \n",
      " 7   era           6132 non-null   category\n",
      " 8   year          6132 non-null   float64 \n",
      " 9   inscriptions  2078 non-null   object  \n",
      " 10  jpg           7848 non-null   object  \n",
      " 11  txt           7847 non-null   object  \n",
      "dtypes: category(2), float64(3), int64(2), object(5)\n",
      "memory usage: 628.9+ KB\n"
     ]
    }
   ],
   "source": [
    "roman_coins_metals = roman_coins_metals[roman_coins_metals['mass'] < 26.6].reset_index()\n",
    "roman_coins_metals.info()"
   ]
  },
  {
   "cell_type": "code",
   "execution_count": 111,
   "metadata": {},
   "outputs": [
    {
     "data": {
      "image/png": "[encoded data removed]",
      "text/plain": [
       "<Figure size 432x216 with 1 Axes>"
      ]
     },
     "metadata": {},
     "output_type": "display_data"
    },
    {
     "data": {
      "image/png": "[encoded data removed]",
      "text/plain": [
       "<Figure size 432x216 with 1 Axes>"
      ]
     },
     "metadata": {},
     "output_type": "display_data"
    },
    {
     "data": {
      "image/png": "[encoded data removed]",
      "text/plain": [
       "<Figure size 432x216 with 1 Axes>"
      ]
     },
     "metadata": {},
     "output_type": "display_data"
    },
    {
     "data": {
      "image/png": "[encoded data removed]",
      "text/plain": [
       "<Figure size 432x216 with 1 Axes>"
      ]
     },
     "metadata": {},
     "output_type": "display_data"
    }
   ],
   "source": [
    "\n",
    "grouped = roman_coins_metals.groupby('metal')\n",
    "\n",
    "for name, group in grouped:\n",
    "    plt.figure(figsize=(6, 3))\n",
    "    plt.hist(x=group['mass'], bins=30)\n",
    "    plt.title(f'Coin Mass Distribution for category {name}')\n",
    "    plt.xlabel('Mass in grams')\n",
    "    plt.ylabel('Number of coins')\n",
    "    plt.show()"
   ]
  },
  {
   "attachments": {},
   "cell_type": "markdown",
   "metadata": {},
   "source": [
    "#### Check distribution of the (limited) diameter values"
   ]
  },
  {
   "cell_type": "code",
   "execution_count": 71,
   "metadata": {},
   "outputs": [
    {
     "data": {
      "text/plain": [
       "count    4631.000000\n",
       "mean       23.597925\n",
       "std         6.149481\n",
       "min         0.000000\n",
       "0.1%       10.000000\n",
       "1%         12.000000\n",
       "5%         15.000000\n",
       "25%        19.000000\n",
       "50%        23.000000\n",
       "75%        27.000000\n",
       "95%        34.780000\n",
       "99%        40.000000\n",
       "99.9%      50.000000\n",
       "max        98.000000\n",
       "Name: diameter, dtype: float64"
      ]
     },
     "execution_count": 71,
     "metadata": {},
     "output_type": "execute_result"
    }
   ],
   "source": [
    "pd.to_numeric(roman_coins['diameter'].dropna()).describe(percentiles=[.001, .01, .05, .25, .5, .75, .95, .99, .999])"
   ]
  },
  {
   "cell_type": "code",
   "execution_count": 108,
   "metadata": {},
   "outputs": [
    {
     "data": {
      "image/png": "[encoded data removed]",
      "text/plain": [
       "<Figure size 640x480 with 1 Axes>"
      ]
     },
     "metadata": {},
     "output_type": "display_data"
    }
   ],
   "source": [
    "plt.hist(x=roman_coins.query(\"diameter > 10 and diameter < 50\")['diameter'].dropna(), bins=36)\n",
    "plt.title('Coin Diameter Distribution'); plt.xlabel('Coin Diameter in mm'); plt.ylabel('Number of coins')\n",
    "plt.show()"
   ]
  },
  {
   "attachments": {},
   "cell_type": "markdown",
   "metadata": {},
   "source": [
    "#### Precursory glance at the correlation between mass and diameter, grouped by metal"
   ]
  },
  {
   "cell_type": "code",
   "execution_count": 143,
   "metadata": {},
   "outputs": [
    {
     "data": {
      "image/png": "[encoded data removed]",
      "text/plain": [
       "<Figure size 640x480 with 1 Axes>"
      ]
     },
     "metadata": {},
     "output_type": "display_data"
    }
   ],
   "source": [
    "mass_diameter = roman_coins_mass.query(\"diameter > 10 and diameter < 40 and mass < 35\").dropna(subset=['metal', 'diameter'])\n",
    "colors = {'Gold':'gold', 'Copper':'#B87333', 'Silver':'silver', 'Brass':'#E1C16E', 'FAKE':'black'}\n",
    "ax = plt.axes(); ax.set_facecolor('#F9F7F8')\n",
    "plt.scatter(x=mass_diameter['mass'], y=mass_diameter['diameter'], c=mass_diameter['metal'].map(colors))\n",
    "plt.xlabel('Mass in grams'); plt.ylabel('Diameter in mm')\n",
    "plt.show()"
   ]
  },
  {
   "attachments": {},
   "cell_type": "markdown",
   "metadata": {},
   "source": [
    "### run code chunk below to save new Dataframe as csv files"
   ]
  },
  {
   "cell_type": "code",
   "execution_count": 68,
   "metadata": {},
   "outputs": [],
   "source": [
    "roman_coins_raw.to_csv('roman_coins_raw.csv')\n",
    "roman_coins.to_csv('roman_coins.csv')\n",
    "roman_coins_years.to_csv('roman_coins_years.csv')\n",
    "roman_coins_mass.to_csv('roman_coins_mass.csv')"
   ]
  },
  {
   "attachments": {},
   "cell_type": "markdown",
   "metadata": {},
   "source": [
    "## Create Dataframe for just titles and subtitles \n",
    "(since subtitles are often too long to fit comfortably in a Dataframe - useful for later joins if subtitles are desired)"
   ]
  },
  {
   "cell_type": "code",
   "execution_count": 84,
   "metadata": {},
   "outputs": [],
   "source": [
    "# titles_and_subtitles = \n",
    "    "
   ]
  }
 ],
 "metadata": {
  "kernelspec": {
   "display_name": "base",
   "language": "python",
   "name": "python3"
  },
  "language_info": {
   "codemirror_mode": {
    "name": "ipython",
    "version": 3
   },
   "file_extension": ".py",
   "mimetype": "text/x-python",
   "name": "python",
   "nbconvert_exporter": "python",
   "pygments_lexer": "ipython3",
   "version": "3.10.12"
  },
  "vscode": {
   "interpreter": {
    "hash": "f50a94dbaf771159da26313fc2ee78d1c8bb11c3fc2558836e83916cfc7976fb"
   }
  }
 },
 "nbformat": 4,
 "nbformat_minor": 4
}
